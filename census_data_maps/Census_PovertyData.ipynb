{
 "cells": [
  {
   "cell_type": "code",
   "execution_count": null,
   "metadata": {},
   "outputs": [],
   "source": [
    "! pip install census\n",
    "! pip install lxml\n",
    "! pip install beautifulsoup4 html5lib\n",
    "!jupyter nbextension enable --py --sys-prefix widgetsnbextension\n",
    "!pip install gmaps\n",
    "!jupyter nbextension enable --py --sys-prefix gmaps\n",
    "!pip install geopandas\n",
    "!pip install pyshp\n",
    "!pip install shapely\n",
    "!pip install plotly==4.11.0\n",
    "!pip install plotly-geo"
   ]
  },
  {
   "cell_type": "code",
   "execution_count": null,
   "metadata": {},
   "outputs": [],
   "source": [
    "# Set up Dependencies\n",
    "from census import Census\n",
    "from config import (census_key, gkey)\n",
    "import gmaps\n",
    "import numpy as np\n",
    "import pandas as pd\n",
    "import requests\n",
    "import time\n",
    "from us import states\n",
    "from scipy.stats import linregress\n",
    "from matplotlib import pyplot as plt\n",
    "\n",
    "# Census API Key\n",
    "c = Census(census_key, year=2017)"
   ]
  },
  {
   "cell_type": "code",
   "execution_count": null,
   "metadata": {},
   "outputs": [],
   "source": [
    "# Documentation census American Community Survey 5 Year Data \n",
    "    # see: https://github.com/CommerceDataService/census-wrapper for library documentation\n",
    "    # See: https://gist.github.com/afhaque/60558290d6efd892351c4b64e5c01e9b for labels\n",
    "\n",
    "# Run Census Search to retrieve data on all zip codes (2017 ACS5 Census)\n",
    "zipcode_census_data = c.acs5.get((\"B01003_001E\", \"B17001_002E\",\"B17001_003E\",\"B17001_017E\",\n",
    "                          \"B17001A_002E\",\"B17001B_002E\", \"B17001C_002E\" ,\"B17001D_002E\" ,\n",
    "                          \"B17001E_002E\" ,\"B17001G_002E\" ,\"B17001I_002E\" ,\"B17012_002E\",\n",
    "                          \"B17012_009E\",\"B17012_014E\" ,\"B23025_002E\" ,\"B23025_007E\" ,\n",
    "                          \"B23025_004E\" ,\"B23025_005E\"), {\n",
    "                         'for': 'zip code tabulation area:*'})\n",
    "\n",
    "# Convert json to DataFrame\n",
    "zipcode_census_pd = pd.DataFrame(zipcode_census_data)\n",
    "\n",
    "#rename columns with appropriate names\n",
    "zipcode_census_pd = zipcode_census_pd.rename(columns={\"B01003_001E\": \"Population\",\n",
    "                                      \"B17001_002E\": \"Poverty Count\",\"B17001_003E\": \"poverty_male\",\n",
    "                                                      \"B17001_017E\": \"poverty_female\",\"B17001A_002E\": \"poverty_white_alone\",\n",
    "                                                      \"B17001B_002E\": \"poverty_black_alone\",\n",
    "                                                      \"B17001C_002E\": \"population_american_indian_alone\",\n",
    "                                                      \"B17001D_002E\": \"poverty_asian_alone\",\n",
    "                                                      \"B17001E_002E\": \"poverty_native_hawaiian_alone\",\n",
    "                                                      \"B17001G_002E\": \"poverty_two_or_more_races\",\n",
    "                                                      \"B17001I_002E\": \"poverty_hispanic_origin\",\n",
    "                                                      \"B17012_002E\": \"poverty_family\",\n",
    "                                                      \"B17012_009E\": \"poverty_family_single_male\",\n",
    "                                                      \"B17012_014E\": \"poverty_family_single_female\",\n",
    "                                                      \"B23025_002E\": \"employment_labor_force\",\n",
    "                                                      \"B23025_007E\": \"employment_not_labor_force\"\t,\n",
    "                                                      \"B23025_004E\": \"employment_employed\",\n",
    "                                                      \"B23025_005E\": \"employment_unemployed\",\n",
    "                                      \"zip code tabulation area\": \"Zipcode\"})\n",
    "\n",
    "zipcode_census_pd.dropna(axis=0, how='any', thresh=None, subset=None, inplace=False)\n",
    "\n",
    "# Calculate and add in Poverty Rate (Poverty Count / Population)\n",
    "zipcode_census_pd[\"Poverty Rate\"] = 100 * \\\n",
    "    zipcode_census_pd[\"Poverty Count\"].astype(\n",
    "        int) / zipcode_census_pd[\"Population\"].astype(int)\n",
    "# # Visualize\n",
    "print(len(zipcode_census_pd))\n",
    "zipcode_census_pd.head()"
   ]
  },
  {
   "cell_type": "code",
   "execution_count": null,
   "metadata": {},
   "outputs": [],
   "source": [
    "# Get California Data Only\n",
    "    #Web scrape to get data for california zipcodes that includes county and whether \n",
    "tables = pd.read_html('Resources/zipcode_site.html')\n",
    "zipcode_df = tables[2]"
   ]
  },
  {
   "cell_type": "code",
   "execution_count": null,
   "metadata": {},
   "outputs": [],
   "source": [
    "#clean zipcode_df to get rid of p.o. boxes and rename columns\n",
    "column_names = list(zipcode_df.iloc[0,:])\n",
    "zipcode_df.columns = column_names\n",
    "    #delete first row (redundant)\n",
    "zipcode_df = zipcode_df.drop(zipcode_df.index[0])"
   ]
  },
  {
   "cell_type": "code",
   "execution_count": null,
   "metadata": {},
   "outputs": [],
   "source": [
    "#reset index \n",
    "zipcode_df=zipcode_df.reset_index()\n",
    "#rename column for merge\n",
    "zipcode_df = zipcode_df.rename(columns={\"ZIP Code\":\"Zipcode\"})"
   ]
  },
  {
   "cell_type": "code",
   "execution_count": null,
   "metadata": {},
   "outputs": [],
   "source": [
    "# zipcode_df.head()\n",
    "zipcode_df['Zipcode']=zipcode_df['Zipcode'].str.slice(9)\n",
    "zipcode_df"
   ]
  },
  {
   "cell_type": "code",
   "execution_count": null,
   "metadata": {},
   "outputs": [],
   "source": [
    "set(zipcode_df['Type'])"
   ]
  },
  {
   "cell_type": "code",
   "execution_count": null,
   "metadata": {},
   "outputs": [],
   "source": [
    "zipcode_df['Type'].value_counts()"
   ]
  },
  {
   "cell_type": "code",
   "execution_count": null,
   "metadata": {},
   "outputs": [],
   "source": [
    "#drop all p.o. boxes \n",
    "zipcode_df = zipcode_df[~zipcode_df.Type.str.contains(\"P.O. Box|Unique\")]\n",
    "len(zipcode_df)"
   ]
  },
  {
   "cell_type": "code",
   "execution_count": null,
   "metadata": {},
   "outputs": [],
   "source": [
    "#merge data frames to get california data only \n",
    "california_data = pd.merge(zipcode_census_pd, zipcode_df, on='Zipcode', how ='inner')\n",
    "print(type(california_data))\n",
    "print(len(california_data))\n",
    "california_data.columns"
   ]
  },
  {
   "cell_type": "code",
   "execution_count": null,
   "metadata": {},
   "outputs": [],
   "source": [
    "california_data['Type']\n",
    "california_data"
   ]
  },
  {
   "cell_type": "code",
   "execution_count": null,
   "metadata": {},
   "outputs": [],
   "source": [
    "\n",
    "california_data['Type'].value_counts()"
   ]
  },
  {
   "cell_type": "code",
   "execution_count": null,
   "metadata": {},
   "outputs": [],
   "source": [
    "#export data to CSV\n",
    "\n",
    "#california_data.to_csv(\"Resources/california_census_data.csv\", encoding=\"utf-8\", index=False)"
   ]
  }
 ],
 "metadata": {
  "kernelspec": {
   "display_name": "Python 3",
   "language": "python",
   "name": "python3"
  },
  "language_info": {
   "codemirror_mode": {
    "name": "ipython",
    "version": 3
   },
   "file_extension": ".py",
   "mimetype": "text/x-python",
   "name": "python",
   "nbconvert_exporter": "python",
   "pygments_lexer": "ipython3",
   "version": "3.8.3"
  }
 },
 "nbformat": 4,
 "nbformat_minor": 4
}
