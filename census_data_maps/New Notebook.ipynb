{
 "cells": [
  {
   "cell_type": "code",
   "execution_count": 1,
   "metadata": {},
   "outputs": [
    {
     "name": "stdout",
     "output_type": "stream",
     "text": [
      "Requirement already satisfied: chart_studio in /Users/Alex-Reyes/opt/anaconda3/lib/python3.8/site-packages (1.1.0)\n",
      "Requirement already satisfied: retrying>=1.3.3 in /Users/Alex-Reyes/opt/anaconda3/lib/python3.8/site-packages (from chart_studio) (1.3.3)\n",
      "Requirement already satisfied: requests in /Users/Alex-Reyes/opt/anaconda3/lib/python3.8/site-packages (from chart_studio) (2.24.0)\n",
      "Requirement already satisfied: plotly in /Users/Alex-Reyes/opt/anaconda3/lib/python3.8/site-packages (from chart_studio) (4.11.0)\n",
      "Requirement already satisfied: six in /Users/Alex-Reyes/opt/anaconda3/lib/python3.8/site-packages (from chart_studio) (1.15.0)\n",
      "Requirement already satisfied: urllib3!=1.25.0,!=1.25.1,<1.26,>=1.21.1 in /Users/Alex-Reyes/opt/anaconda3/lib/python3.8/site-packages (from requests->chart_studio) (1.25.9)\n",
      "Requirement already satisfied: certifi>=2017.4.17 in /Users/Alex-Reyes/opt/anaconda3/lib/python3.8/site-packages (from requests->chart_studio) (2020.6.20)\n",
      "Requirement already satisfied: idna<3,>=2.5 in /Users/Alex-Reyes/opt/anaconda3/lib/python3.8/site-packages (from requests->chart_studio) (2.10)\n",
      "Requirement already satisfied: chardet<4,>=3.0.2 in /Users/Alex-Reyes/opt/anaconda3/lib/python3.8/site-packages (from requests->chart_studio) (3.0.4)\n",
      "Requirement already up-to-date: plotly in /Users/Alex-Reyes/opt/anaconda3/lib/python3.8/site-packages (4.11.0)\n",
      "Requirement already satisfied, skipping upgrade: six in /Users/Alex-Reyes/opt/anaconda3/lib/python3.8/site-packages (from plotly) (1.15.0)\n",
      "Requirement already satisfied, skipping upgrade: retrying>=1.3.3 in /Users/Alex-Reyes/opt/anaconda3/lib/python3.8/site-packages (from plotly) (1.3.3)\n"
     ]
    }
   ],
   "source": [
    "!pip install chart_studio\n",
    "!pip install plotly --upgrade"
   ]
  },
  {
   "cell_type": "code",
   "execution_count": 2,
   "metadata": {},
   "outputs": [],
   "source": [
    "import chart_studio\n",
    "chart_studio.tools.set_credentials_file(username='nakozo97', api_key='JlYqIEa24e2LnZPOL59n')"
   ]
  },
  {
   "cell_type": "code",
   "execution_count": 3,
   "metadata": {},
   "outputs": [],
   "source": [
    "import geopandas as gp\n",
    "df = gp.read_file('Resources/cb_2018_us_zcta510_500k.shp')"
   ]
  },
  {
   "cell_type": "code",
   "execution_count": 4,
   "metadata": {},
   "outputs": [
    {
     "data": {
      "text/html": [
       "<div>\n",
       "<style scoped>\n",
       "    .dataframe tbody tr th:only-of-type {\n",
       "        vertical-align: middle;\n",
       "    }\n",
       "\n",
       "    .dataframe tbody tr th {\n",
       "        vertical-align: top;\n",
       "    }\n",
       "\n",
       "    .dataframe thead th {\n",
       "        text-align: right;\n",
       "    }\n",
       "</style>\n",
       "<table border=\"1\" class=\"dataframe\">\n",
       "  <thead>\n",
       "    <tr style=\"text-align: right;\">\n",
       "      <th></th>\n",
       "      <th>ZCTA5CE10</th>\n",
       "      <th>AFFGEOID10</th>\n",
       "      <th>GEOID10</th>\n",
       "      <th>ALAND10</th>\n",
       "      <th>AWATER10</th>\n",
       "      <th>geometry</th>\n",
       "    </tr>\n",
       "  </thead>\n",
       "  <tbody>\n",
       "    <tr>\n",
       "      <th>33139</th>\n",
       "      <td>10983</td>\n",
       "      <td>8600000US10983</td>\n",
       "      <td>10983</td>\n",
       "      <td>5267037</td>\n",
       "      <td>16676</td>\n",
       "      <td>POLYGON ((-73.96564099999999 41.027873, -73.96...</td>\n",
       "    </tr>\n",
       "    <tr>\n",
       "      <th>33140</th>\n",
       "      <td>50460</td>\n",
       "      <td>8600000US50460</td>\n",
       "      <td>50460</td>\n",
       "      <td>93166133</td>\n",
       "      <td>0</td>\n",
       "      <td>POLYGON ((-92.806293 43.230259, -92.8035419999...</td>\n",
       "    </tr>\n",
       "    <tr>\n",
       "      <th>33141</th>\n",
       "      <td>40870</td>\n",
       "      <td>8600000US40870</td>\n",
       "      <td>40870</td>\n",
       "      <td>18226594</td>\n",
       "      <td>201441</td>\n",
       "      <td>POLYGON ((-83.19264199999999 36.916502, -83.19...</td>\n",
       "    </tr>\n",
       "    <tr>\n",
       "      <th>33142</th>\n",
       "      <td>40914</td>\n",
       "      <td>8600000US40914</td>\n",
       "      <td>40914</td>\n",
       "      <td>32269366</td>\n",
       "      <td>419039</td>\n",
       "      <td>POLYGON ((-83.62747899999999 37.074189, -83.62...</td>\n",
       "    </tr>\n",
       "    <tr>\n",
       "      <th>33143</th>\n",
       "      <td>52750</td>\n",
       "      <td>8600000US52750</td>\n",
       "      <td>52750</td>\n",
       "      <td>77963307</td>\n",
       "      <td>472441</td>\n",
       "      <td>POLYGON ((-90.44672299999999 41.891512, -90.44...</td>\n",
       "    </tr>\n",
       "  </tbody>\n",
       "</table>\n",
       "</div>"
      ],
      "text/plain": [
       "      ZCTA5CE10      AFFGEOID10 GEOID10   ALAND10  AWATER10  \\\n",
       "33139     10983  8600000US10983   10983   5267037     16676   \n",
       "33140     50460  8600000US50460   50460  93166133         0   \n",
       "33141     40870  8600000US40870   40870  18226594    201441   \n",
       "33142     40914  8600000US40914   40914  32269366    419039   \n",
       "33143     52750  8600000US52750   52750  77963307    472441   \n",
       "\n",
       "                                                geometry  \n",
       "33139  POLYGON ((-73.96564099999999 41.027873, -73.96...  \n",
       "33140  POLYGON ((-92.806293 43.230259, -92.8035419999...  \n",
       "33141  POLYGON ((-83.19264199999999 36.916502, -83.19...  \n",
       "33142  POLYGON ((-83.62747899999999 37.074189, -83.62...  \n",
       "33143  POLYGON ((-90.44672299999999 41.891512, -90.44...  "
      ]
     },
     "execution_count": 4,
     "metadata": {},
     "output_type": "execute_result"
    }
   ],
   "source": [
    "df.tail()"
   ]
  },
  {
   "cell_type": "code",
   "execution_count": 5,
   "metadata": {},
   "outputs": [],
   "source": [
    "x,y=df['geometry'][3].exterior.xy"
   ]
  },
  {
   "cell_type": "code",
   "execution_count": 6,
   "metadata": {},
   "outputs": [
    {
     "data": {
      "image/svg+xml": [
       "<svg xmlns=\"http://www.w3.org/2000/svg\" xmlns:xlink=\"http://www.w3.org/1999/xlink\" width=\"100.0\" height=\"100.0\" viewBox=\"-88.48689907540117 42.409154266330724 0.13747680907044924 0.09067430158134471\" preserveAspectRatio=\"xMinYMin meet\"><g transform=\"matrix(1,0,0,-1,0,84.90898283424279)\"><path fill-rule=\"evenodd\" fill=\"#66cc99\" stroke=\"#555555\" stroke-width=\"0.0027495361814089845\" opacity=\"0.6\" d=\"M -88.4818073417319,42.494736834242794 L -88.46139699999999,42.494617999999996 L -88.417396,42.494617999999996 L -88.413114,42.4946238776295 L -88.3784032107312,42.49467152292549 L -88.37934,42.491642999999996 L -88.379393,42.472134 L -88.37456,42.472114999999995 L -88.374504,42.461282999999995 L -88.357452,42.461377 L -88.35459499999999,42.460454 L -88.354514,42.434965 L -88.36587399999999,42.43127 L -88.37196399999999,42.429292 L -88.374606,42.428838 L -88.40402999999999,42.428844999999995 L -88.41157199999999,42.430419 L -88.41349199999999,42.43128 L -88.413566,42.414409 L -88.471683,42.414246 L -88.471373,42.443228 L -88.453527,42.443135999999996 L -88.451411,42.450496 L -88.45122599999999,42.454229999999995 L -88.45243099999999,42.457080999999995 L -88.458197,42.464802999999996 L -88.463212,42.464182 L -88.46632,42.462795 L -88.4711,42.462554999999995 L -88.47070099999999,42.487075 L -88.473384,42.488324 L -88.4818073417319,42.494736834242794 z\" /></g></svg>"
      ],
      "text/plain": [
       "<shapely.geometry.polygon.Polygon at 0x7ff0202d2e20>"
      ]
     },
     "execution_count": 6,
     "metadata": {},
     "output_type": "execute_result"
    }
   ],
   "source": [
    "df['geometry'][24]"
   ]
  },
  {
   "cell_type": "code",
   "execution_count": 7,
   "metadata": {},
   "outputs": [
    {
     "data": {
      "image/svg+xml": [
       "<svg xmlns=\"http://www.w3.org/2000/svg\" xmlns:xlink=\"http://www.w3.org/1999/xlink\" width=\"100.0\" height=\"100.0\" viewBox=\"-88.48689907540117 42.409154266330724 0.13747680907044924 0.09067430158134471\" preserveAspectRatio=\"xMinYMin meet\"><g transform=\"matrix(1,0,0,-1,0,84.90898283424279)\"><path fill-rule=\"evenodd\" fill=\"#66cc99\" stroke=\"#555555\" stroke-width=\"0.0027495361814089845\" opacity=\"0.6\" d=\"M -88.4818073417319,42.494736834242794 L -88.3784032107312,42.49467152292549 L -88.354514,42.434965 L -88.471683,42.414246 L -88.4818073417319,42.494736834242794 z\" /></g></svg>"
      ],
      "text/plain": [
       "<shapely.geometry.polygon.Polygon at 0x7ff02748c460>"
      ]
     },
     "execution_count": 7,
     "metadata": {},
     "output_type": "execute_result"
    }
   ],
   "source": [
    "df['geometry'][24].simplify(0.2)"
   ]
  },
  {
   "cell_type": "code",
   "execution_count": 8,
   "metadata": {},
   "outputs": [
    {
     "name": "stdout",
     "output_type": "stream",
     "text": [
      "Polygon\n"
     ]
    }
   ],
   "source": [
    "print(df['geometry'][24].type)"
   ]
  },
  {
   "cell_type": "code",
   "execution_count": 9,
   "metadata": {},
   "outputs": [
    {
     "ename": "TypeError",
     "evalue": "object of type 'Polygon' has no len()",
     "output_type": "error",
     "traceback": [
      "\u001b[0;31m---------------------------------------------------------------------------\u001b[0m",
      "\u001b[0;31mTypeError\u001b[0m                                 Traceback (most recent call last)",
      "\u001b[0;32m<ipython-input-9-8d29110ae729>\u001b[0m in \u001b[0;36m<module>\u001b[0;34m\u001b[0m\n\u001b[0;32m----> 1\u001b[0;31m \u001b[0mlen\u001b[0m\u001b[0;34m(\u001b[0m\u001b[0mdf\u001b[0m\u001b[0;34m[\u001b[0m\u001b[0;34m'geometry'\u001b[0m\u001b[0;34m]\u001b[0m\u001b[0;34m[\u001b[0m\u001b[0;36m24\u001b[0m\u001b[0;34m]\u001b[0m\u001b[0;34m)\u001b[0m\u001b[0;34m\u001b[0m\u001b[0;34m\u001b[0m\u001b[0m\n\u001b[0m",
      "\u001b[0;31mTypeError\u001b[0m: object of type 'Polygon' has no len()"
     ]
    }
   ],
   "source": [
    "len(df['geometry'][24])"
   ]
  },
  {
   "cell_type": "code",
   "execution_count": null,
   "metadata": {},
   "outputs": [],
   "source": [
    "df['geometry'][18].exterior.xy[1][0]"
   ]
  },
  {
   "cell_type": "code",
   "execution_count": null,
   "metadata": {},
   "outputs": [],
   "source": [
    "df['geometry'][24].centroid.xy"
   ]
  },
  {
   "cell_type": "code",
   "execution_count": null,
   "metadata": {},
   "outputs": [],
   "source": [
    "import chart_studio.plotly as py\n",
    "import plotly.graph_objects as go"
   ]
  },
  {
   "cell_type": "code",
   "execution_count": null,
   "metadata": {},
   "outputs": [],
   "source": [
    "layout = dict(\n",
    "    hovermode = 'closest',\n",
    "    xaxis = dict(\n",
    "        autorange = False,\n",
    "        range = [-125, -65],\n",
    "        showgrid = False,\n",
    "        zeroline = False,\n",
    "        fixedrange = True\n",
    "    ),\n",
    "    yaxis = dict(\n",
    "        autorange = False,\n",
    "        range = [25, 49],\n",
    "        showgrid = False,\n",
    "        zeroline = False,\n",
    "        fixedrange = True\n",
    "    ),\n",
    "    margin = dict(\n",
    "        t=20,\n",
    "        b=20,\n",
    "        r=20,\n",
    "        l=20\n",
    "    ),\n",
    "    width = 1100,\n",
    "    height = 650,\n",
    "    dragmode = 'select'\n",
    ")"
   ]
  },
  {
   "cell_type": "code",
   "execution_count": null,
   "metadata": {},
   "outputs": [],
   "source": [
    "plot_data = []\n",
    "for index,row in df.iterrows():\n",
    "    if df['geometry'][index].type == 'Polygon':\n",
    "        x,y = row.geometry.exterior.xy\n",
    "        c_x,c_y = row.geometry.centroid.xy\n",
    "    elif df['geometry'][index].type == 'MultiPolygon':\n",
    "        x = [poly.exterior.xy[0] for poly in df['geometry'][index]]\n",
    "        y = [poly.exterior.xy[1] for poly in df['geometry'][index]]\n",
    "        x_c = [poly.centroid.xy[0] for poly in df['geometry'][index]]\n",
    "        y_c = [poly.centroid.xy[1] for poly in df['geometry'][index]]        \n",
    "    else: \n",
    "        print('stop')\n",
    "    county_outline = dict(\n",
    "            type = 'choropleth',\n",
    "            showlegend = False,\n",
    "            legendgroup = \"shapes\",\n",
    "            line = dict(color='black', width=1),\n",
    "            x=x,\n",
    "            y=y,\n",
    "            fill='toself',\n",
    "            fillcolor = 'purple',\n",
    "            hoverinfo='none'\n",
    "    )\n",
    "    hover_point = dict(\n",
    "            type = 'choropleth',\n",
    "            showlegend = False,\n",
    "            legendgroup = \"centroids\",\n",
    "#             name = row.NAME,\n",
    "            marker = dict(size=2),\n",
    "#             x=c_x,\n",
    "#             y=c_y,\n",
    "            fill='toself',\n",
    "            fillcolor = 'purple'            \n",
    "    )\n",
    "    plot_data.append(county_outline)\n",
    "    plot_data.append(hover_point)\n"
   ]
  },
  {
   "cell_type": "code",
   "execution_count": null,
   "metadata": {},
   "outputs": [],
   "source": [
    "len(plot_data)"
   ]
  },
  {
   "cell_type": "code",
   "execution_count": null,
   "metadata": {},
   "outputs": [],
   "source": [
    "fig = dict(data=plot_data, layout=layout)\n",
    "py.plot(fig, filename='Resources/cb_2018_us_zcta510_500k.shp')"
   ]
  }
 ],
 "metadata": {
  "kernelspec": {
   "display_name": "Python 3",
   "language": "python",
   "name": "python3"
  },
  "language_info": {
   "codemirror_mode": {
    "name": "ipython",
    "version": 3
   },
   "file_extension": ".py",
   "mimetype": "text/x-python",
   "name": "python",
   "nbconvert_exporter": "python",
   "pygments_lexer": "ipython3",
   "version": "3.8.3"
  }
 },
 "nbformat": 4,
 "nbformat_minor": 4
}
