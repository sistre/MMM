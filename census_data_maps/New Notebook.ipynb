{
 "cells": [
  {
   "cell_type": "code",
   "execution_count": 1,
   "metadata": {},
   "outputs": [
    {
     "name": "stdout",
     "output_type": "stream",
     "text": [
      "Requirement already satisfied: chart_studio in /Users/Alex-Reyes/opt/anaconda3/lib/python3.8/site-packages (1.1.0)\n",
      "Requirement already satisfied: retrying>=1.3.3 in /Users/Alex-Reyes/opt/anaconda3/lib/python3.8/site-packages (from chart_studio) (1.3.3)\n",
      "Requirement already satisfied: six in /Users/Alex-Reyes/opt/anaconda3/lib/python3.8/site-packages (from chart_studio) (1.15.0)\n",
      "Requirement already satisfied: plotly in /Users/Alex-Reyes/opt/anaconda3/lib/python3.8/site-packages (from chart_studio) (4.11.0)\n",
      "Requirement already satisfied: requests in /Users/Alex-Reyes/opt/anaconda3/lib/python3.8/site-packages (from chart_studio) (2.24.0)\n",
      "Requirement already satisfied: certifi>=2017.4.17 in /Users/Alex-Reyes/opt/anaconda3/lib/python3.8/site-packages (from requests->chart_studio) (2020.6.20)\n",
      "Requirement already satisfied: urllib3!=1.25.0,!=1.25.1,<1.26,>=1.21.1 in /Users/Alex-Reyes/opt/anaconda3/lib/python3.8/site-packages (from requests->chart_studio) (1.25.9)\n",
      "Requirement already satisfied: idna<3,>=2.5 in /Users/Alex-Reyes/opt/anaconda3/lib/python3.8/site-packages (from requests->chart_studio) (2.10)\n",
      "Requirement already satisfied: chardet<4,>=3.0.2 in /Users/Alex-Reyes/opt/anaconda3/lib/python3.8/site-packages (from requests->chart_studio) (3.0.4)\n",
      "Requirement already up-to-date: plotly in /Users/Alex-Reyes/opt/anaconda3/lib/python3.8/site-packages (4.11.0)\n",
      "Requirement already satisfied, skipping upgrade: retrying>=1.3.3 in /Users/Alex-Reyes/opt/anaconda3/lib/python3.8/site-packages (from plotly) (1.3.3)\n",
      "Requirement already satisfied, skipping upgrade: six in /Users/Alex-Reyes/opt/anaconda3/lib/python3.8/site-packages (from plotly) (1.15.0)\n"
     ]
    }
   ],
   "source": [
    "!pip install chart_studio\n",
    "!pip install plotly --upgrade"
   ]
  },
  {
   "cell_type": "code",
   "execution_count": 2,
   "metadata": {},
   "outputs": [],
   "source": [
    "import chart_studio\n",
    "chart_studio.tools.set_credentials_file(username='nakozo97', api_key='JlYqIEa24e2LnZPOL59n')"
   ]
  },
  {
   "cell_type": "code",
   "execution_count": 3,
   "metadata": {},
   "outputs": [],
   "source": [
    "import geopandas as gp\n",
    "df = gp.read_file('Resources/cb_2018_us_zcta510_500k.shp')"
   ]
  },
  {
   "cell_type": "code",
   "execution_count": 4,
   "metadata": {},
   "outputs": [
    {
     "data": {
      "text/html": [
       "<div>\n",
       "<style scoped>\n",
       "    .dataframe tbody tr th:only-of-type {\n",
       "        vertical-align: middle;\n",
       "    }\n",
       "\n",
       "    .dataframe tbody tr th {\n",
       "        vertical-align: top;\n",
       "    }\n",
       "\n",
       "    .dataframe thead th {\n",
       "        text-align: right;\n",
       "    }\n",
       "</style>\n",
       "<table border=\"1\" class=\"dataframe\">\n",
       "  <thead>\n",
       "    <tr style=\"text-align: right;\">\n",
       "      <th></th>\n",
       "      <th>ZCTA5CE10</th>\n",
       "      <th>AFFGEOID10</th>\n",
       "      <th>GEOID10</th>\n",
       "      <th>ALAND10</th>\n",
       "      <th>AWATER10</th>\n",
       "      <th>geometry</th>\n",
       "    </tr>\n",
       "  </thead>\n",
       "  <tbody>\n",
       "    <tr>\n",
       "      <th>33139</th>\n",
       "      <td>10983</td>\n",
       "      <td>8600000US10983</td>\n",
       "      <td>10983</td>\n",
       "      <td>5267037</td>\n",
       "      <td>16676</td>\n",
       "      <td>POLYGON ((-73.96564099999999 41.027873, -73.96...</td>\n",
       "    </tr>\n",
       "    <tr>\n",
       "      <th>33140</th>\n",
       "      <td>50460</td>\n",
       "      <td>8600000US50460</td>\n",
       "      <td>50460</td>\n",
       "      <td>93166133</td>\n",
       "      <td>0</td>\n",
       "      <td>POLYGON ((-92.806293 43.230259, -92.8035419999...</td>\n",
       "    </tr>\n",
       "    <tr>\n",
       "      <th>33141</th>\n",
       "      <td>40870</td>\n",
       "      <td>8600000US40870</td>\n",
       "      <td>40870</td>\n",
       "      <td>18226594</td>\n",
       "      <td>201441</td>\n",
       "      <td>POLYGON ((-83.19264199999999 36.916502, -83.19...</td>\n",
       "    </tr>\n",
       "    <tr>\n",
       "      <th>33142</th>\n",
       "      <td>40914</td>\n",
       "      <td>8600000US40914</td>\n",
       "      <td>40914</td>\n",
       "      <td>32269366</td>\n",
       "      <td>419039</td>\n",
       "      <td>POLYGON ((-83.62747899999999 37.074189, -83.62...</td>\n",
       "    </tr>\n",
       "    <tr>\n",
       "      <th>33143</th>\n",
       "      <td>52750</td>\n",
       "      <td>8600000US52750</td>\n",
       "      <td>52750</td>\n",
       "      <td>77963307</td>\n",
       "      <td>472441</td>\n",
       "      <td>POLYGON ((-90.44672299999999 41.891512, -90.44...</td>\n",
       "    </tr>\n",
       "  </tbody>\n",
       "</table>\n",
       "</div>"
      ],
      "text/plain": [
       "      ZCTA5CE10      AFFGEOID10 GEOID10   ALAND10  AWATER10  \\\n",
       "33139     10983  8600000US10983   10983   5267037     16676   \n",
       "33140     50460  8600000US50460   50460  93166133         0   \n",
       "33141     40870  8600000US40870   40870  18226594    201441   \n",
       "33142     40914  8600000US40914   40914  32269366    419039   \n",
       "33143     52750  8600000US52750   52750  77963307    472441   \n",
       "\n",
       "                                                geometry  \n",
       "33139  POLYGON ((-73.96564099999999 41.027873, -73.96...  \n",
       "33140  POLYGON ((-92.806293 43.230259, -92.8035419999...  \n",
       "33141  POLYGON ((-83.19264199999999 36.916502, -83.19...  \n",
       "33142  POLYGON ((-83.62747899999999 37.074189, -83.62...  \n",
       "33143  POLYGON ((-90.44672299999999 41.891512, -90.44...  "
      ]
     },
     "execution_count": 4,
     "metadata": {},
     "output_type": "execute_result"
    }
   ],
   "source": [
    "df.tail()"
   ]
  },
  {
   "cell_type": "code",
   "execution_count": 5,
   "metadata": {},
   "outputs": [],
   "source": [
    "x,y=df['geometry'][3].exterior.xy"
   ]
  },
  {
   "cell_type": "code",
   "execution_count": 6,
   "metadata": {},
   "outputs": [
    {
     "data": {
      "image/svg+xml": [
       "<svg xmlns=\"http://www.w3.org/2000/svg\" xmlns:xlink=\"http://www.w3.org/1999/xlink\" width=\"100.0\" height=\"100.0\" viewBox=\"-88.48689907540117 42.409154266330724 0.13747680907044924 0.09067430158134471\" preserveAspectRatio=\"xMinYMin meet\"><g transform=\"matrix(1,0,0,-1,0,84.90898283424279)\"><path fill-rule=\"evenodd\" fill=\"#66cc99\" stroke=\"#555555\" stroke-width=\"0.0027495361814089845\" opacity=\"0.6\" d=\"M -88.4818073417319,42.494736834242794 L -88.46139699999999,42.494617999999996 L -88.417396,42.494617999999996 L -88.413114,42.4946238776295 L -88.3784032107312,42.49467152292549 L -88.37934,42.491642999999996 L -88.379393,42.472134 L -88.37456,42.472114999999995 L -88.374504,42.461282999999995 L -88.357452,42.461377 L -88.35459499999999,42.460454 L -88.354514,42.434965 L -88.36587399999999,42.43127 L -88.37196399999999,42.429292 L -88.374606,42.428838 L -88.40402999999999,42.428844999999995 L -88.41157199999999,42.430419 L -88.41349199999999,42.43128 L -88.413566,42.414409 L -88.471683,42.414246 L -88.471373,42.443228 L -88.453527,42.443135999999996 L -88.451411,42.450496 L -88.45122599999999,42.454229999999995 L -88.45243099999999,42.457080999999995 L -88.458197,42.464802999999996 L -88.463212,42.464182 L -88.46632,42.462795 L -88.4711,42.462554999999995 L -88.47070099999999,42.487075 L -88.473384,42.488324 L -88.4818073417319,42.494736834242794 z\" /></g></svg>"
      ],
      "text/plain": [
       "<shapely.geometry.polygon.Polygon at 0x7f9681d0bee0>"
      ]
     },
     "execution_count": 6,
     "metadata": {},
     "output_type": "execute_result"
    }
   ],
   "source": [
    "df['geometry'][24]"
   ]
  },
  {
   "cell_type": "code",
   "execution_count": 7,
   "metadata": {},
   "outputs": [
    {
     "data": {
      "image/svg+xml": [
       "<svg xmlns=\"http://www.w3.org/2000/svg\" xmlns:xlink=\"http://www.w3.org/1999/xlink\" width=\"100.0\" height=\"100.0\" viewBox=\"-88.48689907540117 42.409154266330724 0.13747680907044924 0.09067430158134471\" preserveAspectRatio=\"xMinYMin meet\"><g transform=\"matrix(1,0,0,-1,0,84.90898283424279)\"><path fill-rule=\"evenodd\" fill=\"#66cc99\" stroke=\"#555555\" stroke-width=\"0.0027495361814089845\" opacity=\"0.6\" d=\"M -88.4818073417319,42.494736834242794 L -88.3784032107312,42.49467152292549 L -88.354514,42.434965 L -88.471683,42.414246 L -88.4818073417319,42.494736834242794 z\" /></g></svg>"
      ],
      "text/plain": [
       "<shapely.geometry.polygon.Polygon at 0x7f966c643640>"
      ]
     },
     "execution_count": 7,
     "metadata": {},
     "output_type": "execute_result"
    }
   ],
   "source": [
    "df['geometry'][24].simplify(0.2)"
   ]
  },
  {
   "cell_type": "code",
   "execution_count": 8,
   "metadata": {},
   "outputs": [
    {
     "name": "stdout",
     "output_type": "stream",
     "text": [
      "Polygon\n"
     ]
    }
   ],
   "source": [
    "print(df['geometry'][24].type)"
   ]
  },
  {
   "cell_type": "code",
   "execution_count": 9,
   "metadata": {},
   "outputs": [
    {
     "ename": "TypeError",
     "evalue": "object of type 'Polygon' has no len()",
     "output_type": "error",
     "traceback": [
      "\u001b[0;31m---------------------------------------------------------------------------\u001b[0m",
      "\u001b[0;31mTypeError\u001b[0m                                 Traceback (most recent call last)",
      "\u001b[0;32m<ipython-input-9-8d29110ae729>\u001b[0m in \u001b[0;36m<module>\u001b[0;34m\u001b[0m\n\u001b[0;32m----> 1\u001b[0;31m \u001b[0mlen\u001b[0m\u001b[0;34m(\u001b[0m\u001b[0mdf\u001b[0m\u001b[0;34m[\u001b[0m\u001b[0;34m'geometry'\u001b[0m\u001b[0;34m]\u001b[0m\u001b[0;34m[\u001b[0m\u001b[0;36m24\u001b[0m\u001b[0;34m]\u001b[0m\u001b[0;34m)\u001b[0m\u001b[0;34m\u001b[0m\u001b[0;34m\u001b[0m\u001b[0m\n\u001b[0m",
      "\u001b[0;31mTypeError\u001b[0m: object of type 'Polygon' has no len()"
     ]
    }
   ],
   "source": [
    "len(df['geometry'][24])"
   ]
  },
  {
   "cell_type": "code",
   "execution_count": 10,
   "metadata": {},
   "outputs": [
    {
     "data": {
      "text/plain": [
       "33.302729"
      ]
     },
     "execution_count": 10,
     "metadata": {},
     "output_type": "execute_result"
    }
   ],
   "source": [
    "df['geometry'][18].exterior.xy[1][0]"
   ]
  },
  {
   "cell_type": "code",
   "execution_count": 11,
   "metadata": {},
   "outputs": [
    {
     "data": {
      "text/plain": [
       "(array('d', [-88.41944909283772]), array('d', [42.45620838199368]))"
      ]
     },
     "execution_count": 11,
     "metadata": {},
     "output_type": "execute_result"
    }
   ],
   "source": [
    "df['geometry'][24].centroid.xy"
   ]
  },
  {
   "cell_type": "code",
   "execution_count": 13,
   "metadata": {},
   "outputs": [],
   "source": [
    "import chart_studio.plotly as py\n",
    "import plotly.graph_objects as go"
   ]
  },
  {
   "cell_type": "code",
   "execution_count": 14,
   "metadata": {},
   "outputs": [],
   "source": [
    "layout = dict(\n",
    "    hovermode = 'closest',\n",
    "    xaxis = dict(\n",
    "        autorange = False,\n",
    "        range = [-125, -65],\n",
    "        showgrid = False,\n",
    "        zeroline = False,\n",
    "        fixedrange = True\n",
    "    ),\n",
    "    yaxis = dict(\n",
    "        autorange = False,\n",
    "        range = [25, 49],\n",
    "        showgrid = False,\n",
    "        zeroline = False,\n",
    "        fixedrange = True\n",
    "    ),\n",
    "    margin = dict(\n",
    "        t=20,\n",
    "        b=20,\n",
    "        r=20,\n",
    "        l=20\n",
    "    ),\n",
    "    width = 1100,\n",
    "    height = 650,\n",
    "    dragmode = 'select'\n",
    ")"
   ]
  },
  {
   "cell_type": "code",
   "execution_count": 20,
   "metadata": {},
   "outputs": [],
   "source": [
    "plot_data = []\n",
    "for index,row in df.iterrows():\n",
    "    if df['geometry'][index].type == 'Polygon':\n",
    "        x,y = row.geometry.exterior.xy\n",
    "        c_x,c_y = row.geometry.centroid.xy\n",
    "    elif df['geometry'][index].type == 'MultiPolygon':\n",
    "        x = [poly.exterior.xy[0] for poly in df['geometry'][index]]\n",
    "        y = [poly.exterior.xy[1] for poly in df['geometry'][index]]\n",
    "        x_c = [poly.centroid.xy[0] for poly in df['geometry'][index]]\n",
    "        y_c = [poly.centroid.xy[1] for poly in df['geometry'][index]]        \n",
    "    else: \n",
    "        print('stop')\n",
    "    county_outline = dict(\n",
    "            type = 'choropleth',\n",
    "            showlegend = False,\n",
    "            legendgroup = \"shapes\",\n",
    "            line = dict(color='black', width=1),\n",
    "            x=x,\n",
    "            y=y,\n",
    "            fill='toself',\n",
    "            fillcolor = 'purple',\n",
    "            hoverinfo='none'\n",
    "    )\n",
    "    hover_point = dict(\n",
    "            type = 'choropleth',\n",
    "            showlegend = False,\n",
    "            legendgroup = \"centroids\",\n",
    "#             name = row.NAME,\n",
    "            marker = dict(size=2),\n",
    "#             x=c_x,\n",
    "#             y=c_y,\n",
    "            fill='toself',\n",
    "            fillcolor = 'purple'            \n",
    "    )\n",
    "    plot_data.append(county_outline)\n",
    "    plot_data.append(hover_point)\n"
   ]
  },
  {
   "cell_type": "code",
   "execution_count": 18,
   "metadata": {},
   "outputs": [
    {
     "data": {
      "text/plain": [
       "66288"
      ]
     },
     "execution_count": 18,
     "metadata": {},
     "output_type": "execute_result"
    }
   ],
   "source": [
    "len(plot_data)"
   ]
  },
  {
   "cell_type": "code",
   "execution_count": 19,
   "metadata": {},
   "outputs": [
    {
     "ename": "ValueError",
     "evalue": "\n    Invalid value of type 'array.array' received for the 'x' property of scatter\n        Received value: array('d', [-86.743844, -86.738019, -86.73291499999999, -86.732518, -86.730392, -86.72702, -86.726158, -86.72450599999999, -86.721696, -86.71727399999999, -86.716466, -86.717278, -86.71882699999999, -86.715175, -86.713629, -86.709187, -86.707436, -86.709932, -86.708266, -86.70285899999999, -86.701483, -86.699338, -86.698911, -86.696484, -86.695638, -86.695802, -86.691538, -86.690266, -86.690332, -86.68181, -86.681838, -86.679757, -86.679501, -86.67640999999999, -86.672617, -86.662661, -86.660997, -86.656595, -86.65537499999999, -86.65139599999999, -86.649717, -86.64679699999999, -86.645364, -86.644128, -86.64231, -86.63980699999999, -86.640783, -86.642749, -86.641947, -86.643322, -86.646115, -86.645949, -86.642877, -86.640805, -86.636962, -86.63345799999999, -86.633263, -86.631176, -86.63123399999999, -86.62249, -86.622552, -86.619051, -86.618346, -86.622535, -86.622535, -86.626733, -86.626678, -86.627704, -86.628794, -86.631248, -86.631248, -86.635459, -86.635454, -86.63949099999999, -86.639641, -86.638812, -86.638149, -86.63716199999999, -86.63541599999999, -86.630861, -86.626815, -86.62558299999999, -86.62208199999999, -86.622136, -86.62575799999999, -86.626689, -86.626702, -86.63702599999999, -86.639605, -86.6375, -86.63772, -86.634541, -86.633461, -86.6306, -86.627943, -86.62526, -86.619005, -86.61768, -86.613647, -86.613677, -86.609195, -86.609258, -86.604795, -86.60485299999999, -86.60070499999999, -86.60273099999999, -86.601601, -86.602584, -86.60428499999999, -86.60233199999999, -86.60054099999999, -86.60055, -86.60229799999999, -86.601041, -86.601998, -86.60141399999999, -86.602279, -86.603533, -86.603286, -86.60247, -86.600749, -86.599071, -86.598534, -86.59849899999999, -86.597353, -86.595305, -86.595339, -86.594656, -86.592461, -86.589456, -86.59210999999999, -86.591399, -86.588545, -86.588174, -86.585741, -86.58597499999999, -86.582858, -86.58287399999999, -86.58097599999999, -86.579695, -86.579431, -86.57784199999999, -86.576045, -86.575982, -86.57352999999999, -86.571831, -86.570854, -86.571463, -86.570697, -86.561278, -86.561171, -86.563177, -86.56314499999999, -86.56123199999999, -86.561145, -86.565574, -86.565641, -86.57000699999999, -86.570146, -86.571494, -86.57225199999999, -86.573848, -86.575192, -86.577201, -86.576037, -86.57765599999999, -86.574732, -86.574709, -86.57814599999999, -86.568162, -86.57027099999999, -86.572662, -86.57245999999999, -86.568879, -86.567149, -86.564348, -86.567188, -86.56212599999999, -86.56366299999999, -86.56481699999999, -86.564211, -86.56732099999999, -86.56969099999999, -86.56983799999999, -86.569287, -86.566893, -86.566203, -86.56271199999999, -86.562253, -86.563392, -86.564694, -86.566175, -86.57004599999999, -86.575788, -86.575116, -86.57497099999999, -86.57074899999999, -86.570714, -86.57256699999999, -86.57595599999999, -86.577975, -86.57446999999999, -86.56867199999999, -86.565643, -86.563769, -86.55887899999999, -86.55754499999999, -86.559924, -86.560893, -86.561364, -86.560068, -86.557092, -86.555247, -86.554785, -86.55599699999999, -86.547488, -86.545349, -86.545574, -86.544686, -86.541854, -86.540415, -86.540476, -86.54239299999999, -86.543356, -86.541292, -86.539765, -86.538918, -86.53752899999999, -86.53573899999999, -86.534849, -86.532865, -86.528885, -86.526145, -86.52347999999999, -86.521327, -86.519762, -86.51071, -86.508518, -86.50312699999999, -86.50359, -86.502721, -86.49998, -86.496347, -86.491384, -86.48914099999999, -86.487684, -86.484308, -86.483468, -86.482811, -86.482985, -86.481504, -86.483167, -86.487657, -86.48956199999999, -86.488698, -86.489606, -86.487562, -86.48785, -86.486268, -86.487377, -86.485749, -86.48516599999999, -86.485693, -86.484437, -86.485738, -86.485659, -86.53124199999999, -86.535144, -86.541893, -86.53862, -86.54035499999999, -86.544178, -86.54408, -86.545486, -86.54656299999999, -86.54677799999999, -86.584822, -86.585043, -86.586894, -86.591458, -86.59622, -86.597034, -86.599119, -86.601371, -86.601248, -86.604535, -86.608245, -86.61152299999999, -86.612623, -86.614204, -86.615055, -86.615653, -86.613485, -86.61452899999999, -86.61598099999999, -86.615451, -86.618479, -86.619002, -86.620335, -86.621686, -86.62131699999999, -86.622616, -86.62131199999999, -86.626396, -86.63053099999999, -86.629972, -86.632193, -86.631664, -86.632143, -86.635359, -86.63645, -86.638785, -86.64004299999999, -86.64085299999999, -86.638874, -86.640661, -86.640785, -86.63935, -86.63883, -86.63593999999999, -86.637064, -86.64093299999999, -86.641048, -86.636738, -86.63727999999999, -86.63897899999999, -86.642438, -86.645009, -86.64684199999999, -86.648016, -86.648949, -86.650947, -86.655189, -86.656966, -86.660662, -86.664192, -86.667992, -86.66924499999999, -86.671655, -86.67409699999999, -86.676734, -86.678157, -86.679946, -86.682253, -86.682408, -86.684215, -86.683675, -86.68409799999999, -86.68476799999999, -86.685327, -86.685859, -86.68819599999999, -86.683219, -86.682981, -86.684451, -86.685163, -86.702697, -86.702674, -86.707734, -86.722914, -86.72286799999999, -86.72715699999999, -86.727023, -86.732378, -86.733261, -86.73962999999999, -86.739682, -86.740139, -86.738569, -86.739029, -86.736138, -86.73376999999999, -86.732692, -86.73278499999999, -86.73425999999999, -86.734235, -86.736226, -86.736392, -86.733487, -86.729592, -86.731337, -86.732655, -86.733965, -86.73594299999999, -86.734574, -86.73235, -86.730976, -86.72779899999999, -86.728307, -86.730339, -86.730452, -86.72981399999999, -86.728522, -86.72716, -86.72683599999999, -86.727114, -86.729237, -86.729822, -86.729174, -86.729783, -86.736482, -86.742676, -86.745076, -86.743844])\n\n    The 'x' property is an array that may be specified as a tuple,\n    list, numpy array, or pandas Series",
     "output_type": "error",
     "traceback": [
      "\u001b[0;31m---------------------------------------------------------------------------\u001b[0m",
      "\u001b[0;31mValueError\u001b[0m                                Traceback (most recent call last)",
      "\u001b[0;32m<ipython-input-19-6d22d246e611>\u001b[0m in \u001b[0;36m<module>\u001b[0;34m\u001b[0m\n\u001b[1;32m      1\u001b[0m \u001b[0mfig\u001b[0m \u001b[0;34m=\u001b[0m \u001b[0mdict\u001b[0m\u001b[0;34m(\u001b[0m\u001b[0mdata\u001b[0m\u001b[0;34m=\u001b[0m\u001b[0mplot_data\u001b[0m\u001b[0;34m,\u001b[0m \u001b[0mlayout\u001b[0m\u001b[0;34m=\u001b[0m\u001b[0mlayout\u001b[0m\u001b[0;34m)\u001b[0m\u001b[0;34m\u001b[0m\u001b[0;34m\u001b[0m\u001b[0m\n\u001b[0;32m----> 2\u001b[0;31m \u001b[0mpy\u001b[0m\u001b[0;34m.\u001b[0m\u001b[0mplot\u001b[0m\u001b[0;34m(\u001b[0m\u001b[0mfig\u001b[0m\u001b[0;34m,\u001b[0m \u001b[0mfilename\u001b[0m\u001b[0;34m=\u001b[0m\u001b[0;34m'Resources/cb_2018_us_zcta510_500k.shp'\u001b[0m\u001b[0;34m)\u001b[0m\u001b[0;34m\u001b[0m\u001b[0;34m\u001b[0m\u001b[0m\n\u001b[0m",
      "\u001b[0;32m~/opt/anaconda3/lib/python3.8/site-packages/chart_studio/plotly/plotly.py\u001b[0m in \u001b[0;36mplot\u001b[0;34m(figure_or_data, validate, **plot_options)\u001b[0m\n\u001b[1;32m    195\u001b[0m     \u001b[0;32mimport\u001b[0m \u001b[0mplotly\u001b[0m\u001b[0;34m.\u001b[0m\u001b[0mtools\u001b[0m\u001b[0;34m\u001b[0m\u001b[0;34m\u001b[0m\u001b[0m\n\u001b[1;32m    196\u001b[0m \u001b[0;34m\u001b[0m\u001b[0m\n\u001b[0;32m--> 197\u001b[0;31m     \u001b[0mfigure\u001b[0m \u001b[0;34m=\u001b[0m \u001b[0mplotly\u001b[0m\u001b[0;34m.\u001b[0m\u001b[0mtools\u001b[0m\u001b[0;34m.\u001b[0m\u001b[0mreturn_figure_from_figure_or_data\u001b[0m\u001b[0;34m(\u001b[0m\u001b[0mfigure_or_data\u001b[0m\u001b[0;34m,\u001b[0m \u001b[0mvalidate\u001b[0m\u001b[0;34m)\u001b[0m\u001b[0;34m\u001b[0m\u001b[0;34m\u001b[0m\u001b[0m\n\u001b[0m\u001b[1;32m    198\u001b[0m     \u001b[0;32mfor\u001b[0m \u001b[0mentry\u001b[0m \u001b[0;32min\u001b[0m \u001b[0mfigure\u001b[0m\u001b[0;34m[\u001b[0m\u001b[0;34m\"data\"\u001b[0m\u001b[0;34m]\u001b[0m\u001b[0;34m:\u001b[0m\u001b[0;34m\u001b[0m\u001b[0;34m\u001b[0m\u001b[0m\n\u001b[1;32m    199\u001b[0m         \u001b[0;32mif\u001b[0m \u001b[0;34m(\u001b[0m\u001b[0;34m\"type\"\u001b[0m \u001b[0;32min\u001b[0m \u001b[0mentry\u001b[0m\u001b[0;34m)\u001b[0m \u001b[0;32mand\u001b[0m \u001b[0;34m(\u001b[0m\u001b[0mentry\u001b[0m\u001b[0;34m[\u001b[0m\u001b[0;34m\"type\"\u001b[0m\u001b[0;34m]\u001b[0m \u001b[0;34m==\u001b[0m \u001b[0;34m\"scattergl\"\u001b[0m\u001b[0;34m)\u001b[0m\u001b[0;34m:\u001b[0m\u001b[0;34m\u001b[0m\u001b[0;34m\u001b[0m\u001b[0m\n",
      "\u001b[0;32m~/opt/anaconda3/lib/python3.8/site-packages/plotly/tools.py\u001b[0m in \u001b[0;36mreturn_figure_from_figure_or_data\u001b[0;34m(figure_or_data, validate_figure)\u001b[0m\n\u001b[1;32m    551\u001b[0m \u001b[0;34m\u001b[0m\u001b[0m\n\u001b[1;32m    552\u001b[0m         \u001b[0;32mtry\u001b[0m\u001b[0;34m:\u001b[0m\u001b[0;34m\u001b[0m\u001b[0;34m\u001b[0m\u001b[0m\n\u001b[0;32m--> 553\u001b[0;31m             \u001b[0mfigure\u001b[0m \u001b[0;34m=\u001b[0m \u001b[0mFigure\u001b[0m\u001b[0;34m(\u001b[0m\u001b[0;34m**\u001b[0m\u001b[0mfigure\u001b[0m\u001b[0;34m)\u001b[0m\u001b[0;34m.\u001b[0m\u001b[0mto_dict\u001b[0m\u001b[0;34m(\u001b[0m\u001b[0;34m)\u001b[0m\u001b[0;34m\u001b[0m\u001b[0;34m\u001b[0m\u001b[0m\n\u001b[0m\u001b[1;32m    554\u001b[0m         \u001b[0;32mexcept\u001b[0m \u001b[0mexceptions\u001b[0m\u001b[0;34m.\u001b[0m\u001b[0mPlotlyError\u001b[0m \u001b[0;32mas\u001b[0m \u001b[0merr\u001b[0m\u001b[0;34m:\u001b[0m\u001b[0;34m\u001b[0m\u001b[0;34m\u001b[0m\u001b[0m\n\u001b[1;32m    555\u001b[0m             raise exceptions.PlotlyError(\n",
      "\u001b[0;32m~/opt/anaconda3/lib/python3.8/site-packages/plotly/graph_objs/_figure.py\u001b[0m in \u001b[0;36m__init__\u001b[0;34m(self, data, layout, frames, skip_invalid, **kwargs)\u001b[0m\n\u001b[1;32m    582\u001b[0m             \u001b[0;32mis\u001b[0m \u001b[0minvalid\u001b[0m \u001b[0mAND\u001b[0m \u001b[0mskip_invalid\u001b[0m \u001b[0;32mis\u001b[0m \u001b[0;32mFalse\u001b[0m\u001b[0;34m\u001b[0m\u001b[0;34m\u001b[0m\u001b[0m\n\u001b[1;32m    583\u001b[0m         \"\"\"\n\u001b[0;32m--> 584\u001b[0;31m         \u001b[0msuper\u001b[0m\u001b[0;34m(\u001b[0m\u001b[0mFigure\u001b[0m\u001b[0;34m,\u001b[0m \u001b[0mself\u001b[0m\u001b[0;34m)\u001b[0m\u001b[0;34m.\u001b[0m\u001b[0m__init__\u001b[0m\u001b[0;34m(\u001b[0m\u001b[0mdata\u001b[0m\u001b[0;34m,\u001b[0m \u001b[0mlayout\u001b[0m\u001b[0;34m,\u001b[0m \u001b[0mframes\u001b[0m\u001b[0;34m,\u001b[0m \u001b[0mskip_invalid\u001b[0m\u001b[0;34m,\u001b[0m \u001b[0;34m**\u001b[0m\u001b[0mkwargs\u001b[0m\u001b[0;34m)\u001b[0m\u001b[0;34m\u001b[0m\u001b[0;34m\u001b[0m\u001b[0m\n\u001b[0m\u001b[1;32m    585\u001b[0m \u001b[0;34m\u001b[0m\u001b[0m\n\u001b[1;32m    586\u001b[0m     def add_area(\n",
      "\u001b[0;32m~/opt/anaconda3/lib/python3.8/site-packages/plotly/basedatatypes.py\u001b[0m in \u001b[0;36m__init__\u001b[0;34m(self, data, layout_plotly, frames, skip_invalid, **kwargs)\u001b[0m\n\u001b[1;32m    144\u001b[0m \u001b[0;34m\u001b[0m\u001b[0m\n\u001b[1;32m    145\u001b[0m         \u001b[0;31m# ### Import traces ###\u001b[0m\u001b[0;34m\u001b[0m\u001b[0;34m\u001b[0m\u001b[0;34m\u001b[0m\u001b[0m\n\u001b[0;32m--> 146\u001b[0;31m         data = self._data_validator.validate_coerce(\n\u001b[0m\u001b[1;32m    147\u001b[0m             \u001b[0mdata\u001b[0m\u001b[0;34m,\u001b[0m \u001b[0mskip_invalid\u001b[0m\u001b[0;34m=\u001b[0m\u001b[0mskip_invalid\u001b[0m\u001b[0;34m,\u001b[0m \u001b[0m_validate\u001b[0m\u001b[0;34m=\u001b[0m\u001b[0mself\u001b[0m\u001b[0;34m.\u001b[0m\u001b[0m_validate\u001b[0m\u001b[0;34m\u001b[0m\u001b[0;34m\u001b[0m\u001b[0m\n\u001b[1;32m    148\u001b[0m         )\n",
      "\u001b[0;32m~/opt/anaconda3/lib/python3.8/site-packages/_plotly_utils/basevalidators.py\u001b[0m in \u001b[0;36mvalidate_coerce\u001b[0;34m(self, v, skip_invalid, _validate)\u001b[0m\n\u001b[1;32m   2657\u001b[0m                             \u001b[0minvalid_els\u001b[0m\u001b[0;34m.\u001b[0m\u001b[0mappend\u001b[0m\u001b[0;34m(\u001b[0m\u001b[0mv_el\u001b[0m\u001b[0;34m)\u001b[0m\u001b[0;34m\u001b[0m\u001b[0;34m\u001b[0m\u001b[0m\n\u001b[1;32m   2658\u001b[0m                     \u001b[0;32melse\u001b[0m\u001b[0;34m:\u001b[0m\u001b[0;34m\u001b[0m\u001b[0;34m\u001b[0m\u001b[0m\n\u001b[0;32m-> 2659\u001b[0;31m                         trace = self.get_trace_class(trace_type)(\n\u001b[0m\u001b[1;32m   2660\u001b[0m                             \u001b[0mskip_invalid\u001b[0m\u001b[0;34m=\u001b[0m\u001b[0mskip_invalid\u001b[0m\u001b[0;34m,\u001b[0m \u001b[0m_validate\u001b[0m\u001b[0;34m=\u001b[0m\u001b[0m_validate\u001b[0m\u001b[0;34m,\u001b[0m \u001b[0;34m**\u001b[0m\u001b[0mv_copy\u001b[0m\u001b[0;34m\u001b[0m\u001b[0;34m\u001b[0m\u001b[0m\n\u001b[1;32m   2661\u001b[0m                         )\n",
      "\u001b[0;32m~/opt/anaconda3/lib/python3.8/site-packages/plotly/graph_objs/_scatter.py\u001b[0m in \u001b[0;36m__init__\u001b[0;34m(self, arg, cliponaxis, connectgaps, customdata, customdatasrc, dx, dy, error_x, error_y, fill, fillcolor, groupnorm, hoverinfo, hoverinfosrc, hoverlabel, hoveron, hovertemplate, hovertemplatesrc, hovertext, hovertextsrc, ids, idssrc, legendgroup, line, marker, meta, metasrc, mode, name, opacity, orientation, r, rsrc, selected, selectedpoints, showlegend, stackgaps, stackgroup, stream, t, text, textfont, textposition, textpositionsrc, textsrc, texttemplate, texttemplatesrc, tsrc, uid, uirevision, unselected, visible, x, x0, xaxis, xcalendar, xperiod, xperiod0, xperiodalignment, xsrc, y, y0, yaxis, ycalendar, yperiod, yperiod0, yperiodalignment, ysrc, **kwargs)\u001b[0m\n\u001b[1;32m   3120\u001b[0m         \u001b[0m_v\u001b[0m \u001b[0;34m=\u001b[0m \u001b[0mx\u001b[0m \u001b[0;32mif\u001b[0m \u001b[0mx\u001b[0m \u001b[0;32mis\u001b[0m \u001b[0;32mnot\u001b[0m \u001b[0;32mNone\u001b[0m \u001b[0;32melse\u001b[0m \u001b[0m_v\u001b[0m\u001b[0;34m\u001b[0m\u001b[0;34m\u001b[0m\u001b[0m\n\u001b[1;32m   3121\u001b[0m         \u001b[0;32mif\u001b[0m \u001b[0m_v\u001b[0m \u001b[0;32mis\u001b[0m \u001b[0;32mnot\u001b[0m \u001b[0;32mNone\u001b[0m\u001b[0;34m:\u001b[0m\u001b[0;34m\u001b[0m\u001b[0;34m\u001b[0m\u001b[0m\n\u001b[0;32m-> 3122\u001b[0;31m             \u001b[0mself\u001b[0m\u001b[0;34m[\u001b[0m\u001b[0;34m\"x\"\u001b[0m\u001b[0;34m]\u001b[0m \u001b[0;34m=\u001b[0m \u001b[0m_v\u001b[0m\u001b[0;34m\u001b[0m\u001b[0;34m\u001b[0m\u001b[0m\n\u001b[0m\u001b[1;32m   3123\u001b[0m         \u001b[0m_v\u001b[0m \u001b[0;34m=\u001b[0m \u001b[0marg\u001b[0m\u001b[0;34m.\u001b[0m\u001b[0mpop\u001b[0m\u001b[0;34m(\u001b[0m\u001b[0;34m\"x0\"\u001b[0m\u001b[0;34m,\u001b[0m \u001b[0;32mNone\u001b[0m\u001b[0;34m)\u001b[0m\u001b[0;34m\u001b[0m\u001b[0;34m\u001b[0m\u001b[0m\n\u001b[1;32m   3124\u001b[0m         \u001b[0m_v\u001b[0m \u001b[0;34m=\u001b[0m \u001b[0mx0\u001b[0m \u001b[0;32mif\u001b[0m \u001b[0mx0\u001b[0m \u001b[0;32mis\u001b[0m \u001b[0;32mnot\u001b[0m \u001b[0;32mNone\u001b[0m \u001b[0;32melse\u001b[0m \u001b[0m_v\u001b[0m\u001b[0;34m\u001b[0m\u001b[0;34m\u001b[0m\u001b[0m\n",
      "\u001b[0;32m~/opt/anaconda3/lib/python3.8/site-packages/plotly/basedatatypes.py\u001b[0m in \u001b[0;36m__setitem__\u001b[0;34m(self, prop, value)\u001b[0m\n\u001b[1;32m   4017\u001b[0m                 \u001b[0;31m# ### Handle simple property ###\u001b[0m\u001b[0;34m\u001b[0m\u001b[0;34m\u001b[0m\u001b[0;34m\u001b[0m\u001b[0m\n\u001b[1;32m   4018\u001b[0m                 \u001b[0;32melse\u001b[0m\u001b[0;34m:\u001b[0m\u001b[0;34m\u001b[0m\u001b[0;34m\u001b[0m\u001b[0m\n\u001b[0;32m-> 4019\u001b[0;31m                     \u001b[0mself\u001b[0m\u001b[0;34m.\u001b[0m\u001b[0m_set_prop\u001b[0m\u001b[0;34m(\u001b[0m\u001b[0mprop\u001b[0m\u001b[0;34m,\u001b[0m \u001b[0mvalue\u001b[0m\u001b[0;34m)\u001b[0m\u001b[0;34m\u001b[0m\u001b[0;34m\u001b[0m\u001b[0m\n\u001b[0m\u001b[1;32m   4020\u001b[0m             \u001b[0;32melse\u001b[0m\u001b[0;34m:\u001b[0m\u001b[0;34m\u001b[0m\u001b[0;34m\u001b[0m\u001b[0m\n\u001b[1;32m   4021\u001b[0m                 \u001b[0;31m# Make sure properties dict is initialized\u001b[0m\u001b[0;34m\u001b[0m\u001b[0;34m\u001b[0m\u001b[0;34m\u001b[0m\u001b[0m\n",
      "\u001b[0;32m~/opt/anaconda3/lib/python3.8/site-packages/plotly/basedatatypes.py\u001b[0m in \u001b[0;36m_set_prop\u001b[0;34m(self, prop, val)\u001b[0m\n\u001b[1;32m   4335\u001b[0m                 \u001b[0;32mreturn\u001b[0m\u001b[0;34m\u001b[0m\u001b[0;34m\u001b[0m\u001b[0m\n\u001b[1;32m   4336\u001b[0m             \u001b[0;32melse\u001b[0m\u001b[0;34m:\u001b[0m\u001b[0;34m\u001b[0m\u001b[0;34m\u001b[0m\u001b[0m\n\u001b[0;32m-> 4337\u001b[0;31m                 \u001b[0;32mraise\u001b[0m \u001b[0merr\u001b[0m\u001b[0;34m\u001b[0m\u001b[0;34m\u001b[0m\u001b[0m\n\u001b[0m\u001b[1;32m   4338\u001b[0m \u001b[0;34m\u001b[0m\u001b[0m\n\u001b[1;32m   4339\u001b[0m         \u001b[0;31m# val is None\u001b[0m\u001b[0;34m\u001b[0m\u001b[0;34m\u001b[0m\u001b[0;34m\u001b[0m\u001b[0m\n",
      "\u001b[0;32m~/opt/anaconda3/lib/python3.8/site-packages/plotly/basedatatypes.py\u001b[0m in \u001b[0;36m_set_prop\u001b[0;34m(self, prop, val)\u001b[0m\n\u001b[1;32m   4330\u001b[0m \u001b[0;34m\u001b[0m\u001b[0m\n\u001b[1;32m   4331\u001b[0m         \u001b[0;32mtry\u001b[0m\u001b[0;34m:\u001b[0m\u001b[0;34m\u001b[0m\u001b[0;34m\u001b[0m\u001b[0m\n\u001b[0;32m-> 4332\u001b[0;31m             \u001b[0mval\u001b[0m \u001b[0;34m=\u001b[0m \u001b[0mvalidator\u001b[0m\u001b[0;34m.\u001b[0m\u001b[0mvalidate_coerce\u001b[0m\u001b[0;34m(\u001b[0m\u001b[0mval\u001b[0m\u001b[0;34m)\u001b[0m\u001b[0;34m\u001b[0m\u001b[0;34m\u001b[0m\u001b[0m\n\u001b[0m\u001b[1;32m   4333\u001b[0m         \u001b[0;32mexcept\u001b[0m \u001b[0mValueError\u001b[0m \u001b[0;32mas\u001b[0m \u001b[0merr\u001b[0m\u001b[0;34m:\u001b[0m\u001b[0;34m\u001b[0m\u001b[0;34m\u001b[0m\u001b[0m\n\u001b[1;32m   4334\u001b[0m             \u001b[0;32mif\u001b[0m \u001b[0mself\u001b[0m\u001b[0;34m.\u001b[0m\u001b[0m_skip_invalid\u001b[0m\u001b[0;34m:\u001b[0m\u001b[0;34m\u001b[0m\u001b[0;34m\u001b[0m\u001b[0m\n",
      "\u001b[0;32m~/opt/anaconda3/lib/python3.8/site-packages/_plotly_utils/basevalidators.py\u001b[0m in \u001b[0;36mvalidate_coerce\u001b[0;34m(self, v)\u001b[0m\n\u001b[1;32m    389\u001b[0m             \u001b[0mv\u001b[0m \u001b[0;34m=\u001b[0m \u001b[0mto_scalar_or_list\u001b[0m\u001b[0;34m(\u001b[0m\u001b[0mv\u001b[0m\u001b[0;34m)\u001b[0m\u001b[0;34m\u001b[0m\u001b[0;34m\u001b[0m\u001b[0m\n\u001b[1;32m    390\u001b[0m         \u001b[0;32melse\u001b[0m\u001b[0;34m:\u001b[0m\u001b[0;34m\u001b[0m\u001b[0;34m\u001b[0m\u001b[0m\n\u001b[0;32m--> 391\u001b[0;31m             \u001b[0mself\u001b[0m\u001b[0;34m.\u001b[0m\u001b[0mraise_invalid_val\u001b[0m\u001b[0;34m(\u001b[0m\u001b[0mv\u001b[0m\u001b[0;34m)\u001b[0m\u001b[0;34m\u001b[0m\u001b[0;34m\u001b[0m\u001b[0m\n\u001b[0m\u001b[1;32m    392\u001b[0m         \u001b[0;32mreturn\u001b[0m \u001b[0mv\u001b[0m\u001b[0;34m\u001b[0m\u001b[0;34m\u001b[0m\u001b[0m\n\u001b[1;32m    393\u001b[0m \u001b[0;34m\u001b[0m\u001b[0m\n",
      "\u001b[0;32m~/opt/anaconda3/lib/python3.8/site-packages/_plotly_utils/basevalidators.py\u001b[0m in \u001b[0;36mraise_invalid_val\u001b[0;34m(self, v, inds)\u001b[0m\n\u001b[1;32m    273\u001b[0m                 \u001b[0mname\u001b[0m \u001b[0;34m+=\u001b[0m \u001b[0;34m\"[\"\u001b[0m \u001b[0;34m+\u001b[0m \u001b[0mstr\u001b[0m\u001b[0;34m(\u001b[0m\u001b[0mi\u001b[0m\u001b[0;34m)\u001b[0m \u001b[0;34m+\u001b[0m \u001b[0;34m\"]\"\u001b[0m\u001b[0;34m\u001b[0m\u001b[0;34m\u001b[0m\u001b[0m\n\u001b[1;32m    274\u001b[0m \u001b[0;34m\u001b[0m\u001b[0m\n\u001b[0;32m--> 275\u001b[0;31m         raise ValueError(\n\u001b[0m\u001b[1;32m    276\u001b[0m             \"\"\"\n\u001b[1;32m    277\u001b[0m     \u001b[0mInvalid\u001b[0m \u001b[0mvalue\u001b[0m \u001b[0mof\u001b[0m \u001b[0mtype\u001b[0m \u001b[0;34m{\u001b[0m\u001b[0mtyp\u001b[0m\u001b[0;34m}\u001b[0m \u001b[0mreceived\u001b[0m \u001b[0;32mfor\u001b[0m \u001b[0mthe\u001b[0m \u001b[0;34m'{name}'\u001b[0m \u001b[0mproperty\u001b[0m \u001b[0mof\u001b[0m \u001b[0;34m{\u001b[0m\u001b[0mpname\u001b[0m\u001b[0;34m}\u001b[0m\u001b[0;34m\u001b[0m\u001b[0;34m\u001b[0m\u001b[0m\n",
      "\u001b[0;31mValueError\u001b[0m: \n    Invalid value of type 'array.array' received for the 'x' property of scatter\n        Received value: array('d', [-86.743844, -86.738019, -86.73291499999999, -86.732518, -86.730392, -86.72702, -86.726158, -86.72450599999999, -86.721696, -86.71727399999999, -86.716466, -86.717278, -86.71882699999999, -86.715175, -86.713629, -86.709187, -86.707436, -86.709932, -86.708266, -86.70285899999999, -86.701483, -86.699338, -86.698911, -86.696484, -86.695638, -86.695802, -86.691538, -86.690266, -86.690332, -86.68181, -86.681838, -86.679757, -86.679501, -86.67640999999999, -86.672617, -86.662661, -86.660997, -86.656595, -86.65537499999999, -86.65139599999999, -86.649717, -86.64679699999999, -86.645364, -86.644128, -86.64231, -86.63980699999999, -86.640783, -86.642749, -86.641947, -86.643322, -86.646115, -86.645949, -86.642877, -86.640805, -86.636962, -86.63345799999999, -86.633263, -86.631176, -86.63123399999999, -86.62249, -86.622552, -86.619051, -86.618346, -86.622535, -86.622535, -86.626733, -86.626678, -86.627704, -86.628794, -86.631248, -86.631248, -86.635459, -86.635454, -86.63949099999999, -86.639641, -86.638812, -86.638149, -86.63716199999999, -86.63541599999999, -86.630861, -86.626815, -86.62558299999999, -86.62208199999999, -86.622136, -86.62575799999999, -86.626689, -86.626702, -86.63702599999999, -86.639605, -86.6375, -86.63772, -86.634541, -86.633461, -86.6306, -86.627943, -86.62526, -86.619005, -86.61768, -86.613647, -86.613677, -86.609195, -86.609258, -86.604795, -86.60485299999999, -86.60070499999999, -86.60273099999999, -86.601601, -86.602584, -86.60428499999999, -86.60233199999999, -86.60054099999999, -86.60055, -86.60229799999999, -86.601041, -86.601998, -86.60141399999999, -86.602279, -86.603533, -86.603286, -86.60247, -86.600749, -86.599071, -86.598534, -86.59849899999999, -86.597353, -86.595305, -86.595339, -86.594656, -86.592461, -86.589456, -86.59210999999999, -86.591399, -86.588545, -86.588174, -86.585741, -86.58597499999999, -86.582858, -86.58287399999999, -86.58097599999999, -86.579695, -86.579431, -86.57784199999999, -86.576045, -86.575982, -86.57352999999999, -86.571831, -86.570854, -86.571463, -86.570697, -86.561278, -86.561171, -86.563177, -86.56314499999999, -86.56123199999999, -86.561145, -86.565574, -86.565641, -86.57000699999999, -86.570146, -86.571494, -86.57225199999999, -86.573848, -86.575192, -86.577201, -86.576037, -86.57765599999999, -86.574732, -86.574709, -86.57814599999999, -86.568162, -86.57027099999999, -86.572662, -86.57245999999999, -86.568879, -86.567149, -86.564348, -86.567188, -86.56212599999999, -86.56366299999999, -86.56481699999999, -86.564211, -86.56732099999999, -86.56969099999999, -86.56983799999999, -86.569287, -86.566893, -86.566203, -86.56271199999999, -86.562253, -86.563392, -86.564694, -86.566175, -86.57004599999999, -86.575788, -86.575116, -86.57497099999999, -86.57074899999999, -86.570714, -86.57256699999999, -86.57595599999999, -86.577975, -86.57446999999999, -86.56867199999999, -86.565643, -86.563769, -86.55887899999999, -86.55754499999999, -86.559924, -86.560893, -86.561364, -86.560068, -86.557092, -86.555247, -86.554785, -86.55599699999999, -86.547488, -86.545349, -86.545574, -86.544686, -86.541854, -86.540415, -86.540476, -86.54239299999999, -86.543356, -86.541292, -86.539765, -86.538918, -86.53752899999999, -86.53573899999999, -86.534849, -86.532865, -86.528885, -86.526145, -86.52347999999999, -86.521327, -86.519762, -86.51071, -86.508518, -86.50312699999999, -86.50359, -86.502721, -86.49998, -86.496347, -86.491384, -86.48914099999999, -86.487684, -86.484308, -86.483468, -86.482811, -86.482985, -86.481504, -86.483167, -86.487657, -86.48956199999999, -86.488698, -86.489606, -86.487562, -86.48785, -86.486268, -86.487377, -86.485749, -86.48516599999999, -86.485693, -86.484437, -86.485738, -86.485659, -86.53124199999999, -86.535144, -86.541893, -86.53862, -86.54035499999999, -86.544178, -86.54408, -86.545486, -86.54656299999999, -86.54677799999999, -86.584822, -86.585043, -86.586894, -86.591458, -86.59622, -86.597034, -86.599119, -86.601371, -86.601248, -86.604535, -86.608245, -86.61152299999999, -86.612623, -86.614204, -86.615055, -86.615653, -86.613485, -86.61452899999999, -86.61598099999999, -86.615451, -86.618479, -86.619002, -86.620335, -86.621686, -86.62131699999999, -86.622616, -86.62131199999999, -86.626396, -86.63053099999999, -86.629972, -86.632193, -86.631664, -86.632143, -86.635359, -86.63645, -86.638785, -86.64004299999999, -86.64085299999999, -86.638874, -86.640661, -86.640785, -86.63935, -86.63883, -86.63593999999999, -86.637064, -86.64093299999999, -86.641048, -86.636738, -86.63727999999999, -86.63897899999999, -86.642438, -86.645009, -86.64684199999999, -86.648016, -86.648949, -86.650947, -86.655189, -86.656966, -86.660662, -86.664192, -86.667992, -86.66924499999999, -86.671655, -86.67409699999999, -86.676734, -86.678157, -86.679946, -86.682253, -86.682408, -86.684215, -86.683675, -86.68409799999999, -86.68476799999999, -86.685327, -86.685859, -86.68819599999999, -86.683219, -86.682981, -86.684451, -86.685163, -86.702697, -86.702674, -86.707734, -86.722914, -86.72286799999999, -86.72715699999999, -86.727023, -86.732378, -86.733261, -86.73962999999999, -86.739682, -86.740139, -86.738569, -86.739029, -86.736138, -86.73376999999999, -86.732692, -86.73278499999999, -86.73425999999999, -86.734235, -86.736226, -86.736392, -86.733487, -86.729592, -86.731337, -86.732655, -86.733965, -86.73594299999999, -86.734574, -86.73235, -86.730976, -86.72779899999999, -86.728307, -86.730339, -86.730452, -86.72981399999999, -86.728522, -86.72716, -86.72683599999999, -86.727114, -86.729237, -86.729822, -86.729174, -86.729783, -86.736482, -86.742676, -86.745076, -86.743844])\n\n    The 'x' property is an array that may be specified as a tuple,\n    list, numpy array, or pandas Series"
     ]
    }
   ],
   "source": [
    "fig = dict(data=plot_data, layout=layout)\n",
    "py.plot(fig, filename='Resources/cb_2018_us_zcta510_500k.shp')"
   ]
  }
 ],
 "metadata": {
  "kernelspec": {
   "display_name": "Python 3",
   "language": "python",
   "name": "python3"
  },
  "language_info": {
   "codemirror_mode": {
    "name": "ipython",
    "version": 3
   },
   "file_extension": ".py",
   "mimetype": "text/x-python",
   "name": "python",
   "nbconvert_exporter": "python",
   "pygments_lexer": "ipython3",
   "version": "3.8.3"
  }
 },
 "nbformat": 4,
 "nbformat_minor": 4
}
