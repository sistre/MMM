{
 "cells": [
  {
   "cell_type": "code",
   "execution_count": 35,
   "metadata": {},
   "outputs": [
    {
     "name": "stdout",
     "output_type": "stream",
     "text": [
      "Requirement already satisfied: geopandas==0.3.0 in /Users/Alex-Reyes/opt/anaconda3/lib/python3.8/site-packages (0.3.0)\n",
      "Requirement already satisfied: pandas in /Users/Alex-Reyes/opt/anaconda3/lib/python3.8/site-packages (from geopandas==0.3.0) (1.0.5)\n",
      "Requirement already satisfied: shapely in /Users/Alex-Reyes/opt/anaconda3/lib/python3.8/site-packages (from geopandas==0.3.0) (1.7.1)\n",
      "Requirement already satisfied: fiona in /Users/Alex-Reyes/opt/anaconda3/lib/python3.8/site-packages (from geopandas==0.3.0) (1.8.17)\n",
      "Requirement already satisfied: descartes in /Users/Alex-Reyes/opt/anaconda3/lib/python3.8/site-packages (from geopandas==0.3.0) (1.1.0)\n",
      "Requirement already satisfied: pyproj in /Users/Alex-Reyes/opt/anaconda3/lib/python3.8/site-packages (from geopandas==0.3.0) (2.6.1.post1)\n",
      "Requirement already satisfied: pytz>=2017.2 in /Users/Alex-Reyes/opt/anaconda3/lib/python3.8/site-packages (from pandas->geopandas==0.3.0) (2020.1)\n",
      "Requirement already satisfied: python-dateutil>=2.6.1 in /Users/Alex-Reyes/opt/anaconda3/lib/python3.8/site-packages (from pandas->geopandas==0.3.0) (2.8.1)\n",
      "Requirement already satisfied: numpy>=1.13.3 in /Users/Alex-Reyes/opt/anaconda3/lib/python3.8/site-packages (from pandas->geopandas==0.3.0) (1.18.5)\n",
      "Requirement already satisfied: attrs>=17 in /Users/Alex-Reyes/opt/anaconda3/lib/python3.8/site-packages (from fiona->geopandas==0.3.0) (19.3.0)\n",
      "Requirement already satisfied: munch in /Users/Alex-Reyes/opt/anaconda3/lib/python3.8/site-packages (from fiona->geopandas==0.3.0) (2.5.0)\n",
      "Requirement already satisfied: cligj>=0.5 in /Users/Alex-Reyes/opt/anaconda3/lib/python3.8/site-packages (from fiona->geopandas==0.3.0) (0.6.0)\n",
      "Requirement already satisfied: click<8,>=4.0 in /Users/Alex-Reyes/opt/anaconda3/lib/python3.8/site-packages (from fiona->geopandas==0.3.0) (7.1.2)\n",
      "Requirement already satisfied: six>=1.7 in /Users/Alex-Reyes/opt/anaconda3/lib/python3.8/site-packages (from fiona->geopandas==0.3.0) (1.15.0)\n",
      "Requirement already satisfied: click-plugins>=1.0 in /Users/Alex-Reyes/opt/anaconda3/lib/python3.8/site-packages (from fiona->geopandas==0.3.0) (1.1.1)\n",
      "Requirement already satisfied: matplotlib in /Users/Alex-Reyes/opt/anaconda3/lib/python3.8/site-packages (from descartes->geopandas==0.3.0) (3.2.2)\n",
      "Requirement already satisfied: pyparsing!=2.0.4,!=2.1.2,!=2.1.6,>=2.0.1 in /Users/Alex-Reyes/opt/anaconda3/lib/python3.8/site-packages (from matplotlib->descartes->geopandas==0.3.0) (2.4.7)\n",
      "Requirement already satisfied: kiwisolver>=1.0.1 in /Users/Alex-Reyes/opt/anaconda3/lib/python3.8/site-packages (from matplotlib->descartes->geopandas==0.3.0) (1.2.0)\n",
      "Requirement already satisfied: cycler>=0.10 in /Users/Alex-Reyes/opt/anaconda3/lib/python3.8/site-packages (from matplotlib->descartes->geopandas==0.3.0) (0.10.0)\n",
      "Requirement already satisfied: pyshp==1.2.10 in /Users/Alex-Reyes/opt/anaconda3/lib/python3.8/site-packages (1.2.10)\n",
      "Requirement already satisfied: shapely in /Users/Alex-Reyes/opt/anaconda3/lib/python3.8/site-packages (1.7.1)\n",
      "Collecting chart-studio\n",
      "  Downloading chart_studio-1.1.0-py3-none-any.whl (64 kB)\n",
      "\u001b[K     |████████████████████████████████| 64 kB 897 kB/s eta 0:00:011\n",
      "\u001b[?25hRequirement already satisfied: requests in /Users/Alex-Reyes/opt/anaconda3/lib/python3.8/site-packages (from chart-studio) (2.24.0)\n",
      "Requirement already satisfied: six in /Users/Alex-Reyes/opt/anaconda3/lib/python3.8/site-packages (from chart-studio) (1.15.0)\n",
      "Requirement already satisfied: plotly in /Users/Alex-Reyes/opt/anaconda3/lib/python3.8/site-packages (from chart-studio) (4.11.0)\n",
      "Requirement already satisfied: retrying>=1.3.3 in /Users/Alex-Reyes/opt/anaconda3/lib/python3.8/site-packages (from chart-studio) (1.3.3)\n",
      "Requirement already satisfied: urllib3!=1.25.0,!=1.25.1,<1.26,>=1.21.1 in /Users/Alex-Reyes/opt/anaconda3/lib/python3.8/site-packages (from requests->chart-studio) (1.25.9)\n",
      "Requirement already satisfied: certifi>=2017.4.17 in /Users/Alex-Reyes/opt/anaconda3/lib/python3.8/site-packages (from requests->chart-studio) (2020.6.20)\n",
      "Requirement already satisfied: idna<3,>=2.5 in /Users/Alex-Reyes/opt/anaconda3/lib/python3.8/site-packages (from requests->chart-studio) (2.10)\n",
      "Requirement already satisfied: chardet<4,>=3.0.2 in /Users/Alex-Reyes/opt/anaconda3/lib/python3.8/site-packages (from requests->chart-studio) (3.0.4)\n",
      "Installing collected packages: chart-studio\n",
      "Successfully installed chart-studio-1.1.0\n"
     ]
    }
   ],
   "source": [
    "!pip install geopandas==0.3.0\n",
    "!pip install pyshp==1.2.10\n",
    "!pip install shapely\n",
    "!pip install chart-studio"
   ]
  },
  {
   "cell_type": "code",
   "execution_count": 37,
   "metadata": {},
   "outputs": [],
   "source": [
    "import plotly.figure_factory as ff\n",
    "import geopandas as gp\n",
    "import numpy as np\n",
    "import pandas as pd\n",
    "import plotly.offline as py\n",
    "from chart_studio.plotly import plot, iplot"
   ]
  },
  {
   "cell_type": "code",
   "execution_count": 3,
   "metadata": {},
   "outputs": [],
   "source": [
    "# https://chart-studio.plotly.com/~jackp/18292/plotting-d3js-county-choropleth-maps-in/#/\n",
    "# df = gp.read_file(\"/Users/jackparmer/Downloads/cb_2016_us_county_500k/cb_2016_us_county_500k.shp\")\n",
    "\n",
    "df = gp.read_file('Resources/cb_2018_us_zcta510_500k.shp')\n",
    "\n",
    "# https://www.census.gov/geographies/mapping-files/time-series/geo/carto-boundary-file.html\n",
    "\n",
    "# df_sample = pd.read_shp('cb_2018_us_zcta510_500k.shp')\n",
    "# df_sample_r = df_sample[df_sample['STNAME'] == 'California']\n",
    "\n",
    "# values = df_sample_r['TOT_POP'].tolist()\n",
    "# fips = df_sample_r['FIPS'].tolist()\n",
    "\n",
    "# endpts = list(np.mgrid[min(values):max(values):4j])\n",
    "# colorscale = [\"#030512\",\"#1d1d3b\",\"#323268\",\"#3d4b94\",\"#3e6ab0\",\n",
    "#               \"#4989bc\",\"#60a7c7\",\"#85c5d3\",\"#b7e0e4\",\"#eafcfd\"]\n",
    "# fig = ff.create_choropleth(\n",
    "#     fips=fips, values=values, scope=['California'], show_state_data=True,\n",
    "#     colorscale=colorscale, binning_endpoints=endpts, round_legend_values=True,\n",
    "#     plot_bgcolor='rgb(229,229,229)',\n",
    "#     paper_bgcolor='rgb(229,229,229)',\n",
    "#     legend_title='Population by County',\n",
    "#     county_outline={'color': 'rgb(255,255,255)', 'width': 0.5},\n",
    "#     exponent_format=True,\n",
    "# )\n",
    "# fig.layout.template = None\n",
    "# fig.show()"
   ]
  },
  {
   "cell_type": "code",
   "execution_count": 4,
   "metadata": {},
   "outputs": [
    {
     "data": {
      "text/html": [
       "<div>\n",
       "<style scoped>\n",
       "    .dataframe tbody tr th:only-of-type {\n",
       "        vertical-align: middle;\n",
       "    }\n",
       "\n",
       "    .dataframe tbody tr th {\n",
       "        vertical-align: top;\n",
       "    }\n",
       "\n",
       "    .dataframe thead th {\n",
       "        text-align: right;\n",
       "    }\n",
       "</style>\n",
       "<table border=\"1\" class=\"dataframe\">\n",
       "  <thead>\n",
       "    <tr style=\"text-align: right;\">\n",
       "      <th></th>\n",
       "      <th>ZCTA5CE10</th>\n",
       "      <th>AFFGEOID10</th>\n",
       "      <th>GEOID10</th>\n",
       "      <th>ALAND10</th>\n",
       "      <th>AWATER10</th>\n",
       "      <th>geometry</th>\n",
       "    </tr>\n",
       "  </thead>\n",
       "  <tbody>\n",
       "    <tr>\n",
       "      <th>33139</th>\n",
       "      <td>10983</td>\n",
       "      <td>8600000US10983</td>\n",
       "      <td>10983</td>\n",
       "      <td>5267037</td>\n",
       "      <td>16676</td>\n",
       "      <td>POLYGON ((-73.96564099999999 41.027873, -73.96...</td>\n",
       "    </tr>\n",
       "    <tr>\n",
       "      <th>33140</th>\n",
       "      <td>50460</td>\n",
       "      <td>8600000US50460</td>\n",
       "      <td>50460</td>\n",
       "      <td>93166133</td>\n",
       "      <td>0</td>\n",
       "      <td>POLYGON ((-92.806293 43.230259, -92.8035419999...</td>\n",
       "    </tr>\n",
       "    <tr>\n",
       "      <th>33141</th>\n",
       "      <td>40870</td>\n",
       "      <td>8600000US40870</td>\n",
       "      <td>40870</td>\n",
       "      <td>18226594</td>\n",
       "      <td>201441</td>\n",
       "      <td>POLYGON ((-83.19264199999999 36.916502, -83.19...</td>\n",
       "    </tr>\n",
       "    <tr>\n",
       "      <th>33142</th>\n",
       "      <td>40914</td>\n",
       "      <td>8600000US40914</td>\n",
       "      <td>40914</td>\n",
       "      <td>32269366</td>\n",
       "      <td>419039</td>\n",
       "      <td>POLYGON ((-83.62747899999999 37.074189, -83.62...</td>\n",
       "    </tr>\n",
       "    <tr>\n",
       "      <th>33143</th>\n",
       "      <td>52750</td>\n",
       "      <td>8600000US52750</td>\n",
       "      <td>52750</td>\n",
       "      <td>77963307</td>\n",
       "      <td>472441</td>\n",
       "      <td>POLYGON ((-90.44672299999999 41.891512, -90.44...</td>\n",
       "    </tr>\n",
       "  </tbody>\n",
       "</table>\n",
       "</div>"
      ],
      "text/plain": [
       "      ZCTA5CE10      AFFGEOID10 GEOID10   ALAND10  AWATER10  \\\n",
       "33139     10983  8600000US10983   10983   5267037     16676   \n",
       "33140     50460  8600000US50460   50460  93166133         0   \n",
       "33141     40870  8600000US40870   40870  18226594    201441   \n",
       "33142     40914  8600000US40914   40914  32269366    419039   \n",
       "33143     52750  8600000US52750   52750  77963307    472441   \n",
       "\n",
       "                                                geometry  \n",
       "33139  POLYGON ((-73.96564099999999 41.027873, -73.96...  \n",
       "33140  POLYGON ((-92.806293 43.230259, -92.8035419999...  \n",
       "33141  POLYGON ((-83.19264199999999 36.916502, -83.19...  \n",
       "33142  POLYGON ((-83.62747899999999 37.074189, -83.62...  \n",
       "33143  POLYGON ((-90.44672299999999 41.891512, -90.44...  "
      ]
     },
     "execution_count": 4,
     "metadata": {},
     "output_type": "execute_result"
    }
   ],
   "source": [
    "df.tail()"
   ]
  },
  {
   "cell_type": "code",
   "execution_count": 5,
   "metadata": {},
   "outputs": [
    {
     "data": {
      "text/plain": [
       "geopandas.geoseries.GeoSeries"
      ]
     },
     "execution_count": 5,
     "metadata": {},
     "output_type": "execute_result"
    }
   ],
   "source": [
    "type(df[\"geometry\"])"
   ]
  },
  {
   "cell_type": "code",
   "execution_count": 31,
   "metadata": {},
   "outputs": [],
   "source": [
    "x,y=df['geometry'][3].exterior.xy"
   ]
  },
  {
   "cell_type": "code",
   "execution_count": 30,
   "metadata": {},
   "outputs": [
    {
     "name": "stdout",
     "output_type": "stream",
     "text": [
      "Polygon\n"
     ]
    },
    {
     "data": {
      "image/svg+xml": [
       "<svg xmlns=\"http://www.w3.org/2000/svg\" xmlns:xlink=\"http://www.w3.org/1999/xlink\" width=\"100.0\" height=\"100.0\" viewBox=\"-88.48689907540117 42.409154266330724 0.13747680907044924 0.09067430158134471\" preserveAspectRatio=\"xMinYMin meet\"><g transform=\"matrix(1,0,0,-1,0,84.90898283424279)\"><path fill-rule=\"evenodd\" fill=\"#66cc99\" stroke=\"#555555\" stroke-width=\"0.0027495361814089845\" opacity=\"0.6\" d=\"M -88.4818073417319,42.494736834242794 L -88.46139699999999,42.494617999999996 L -88.417396,42.494617999999996 L -88.413114,42.4946238776295 L -88.3784032107312,42.49467152292549 L -88.37934,42.491642999999996 L -88.379393,42.472134 L -88.37456,42.472114999999995 L -88.374504,42.461282999999995 L -88.357452,42.461377 L -88.35459499999999,42.460454 L -88.354514,42.434965 L -88.36587399999999,42.43127 L -88.37196399999999,42.429292 L -88.374606,42.428838 L -88.40402999999999,42.428844999999995 L -88.41157199999999,42.430419 L -88.41349199999999,42.43128 L -88.413566,42.414409 L -88.471683,42.414246 L -88.471373,42.443228 L -88.453527,42.443135999999996 L -88.451411,42.450496 L -88.45122599999999,42.454229999999995 L -88.45243099999999,42.457080999999995 L -88.458197,42.464802999999996 L -88.463212,42.464182 L -88.46632,42.462795 L -88.4711,42.462554999999995 L -88.47070099999999,42.487075 L -88.473384,42.488324 L -88.4818073417319,42.494736834242794 z\" /></g></svg>"
      ],
      "text/plain": [
       "<shapely.geometry.polygon.Polygon at 0x7fb3a2635fd0>"
      ]
     },
     "execution_count": 30,
     "metadata": {},
     "output_type": "execute_result"
    }
   ],
   "source": [
    "print(df['geometry'][24].type)\n",
    "df['geometry'][24]"
   ]
  },
  {
   "cell_type": "code",
   "execution_count": 28,
   "metadata": {},
   "outputs": [
    {
     "data": {
      "image/svg+xml": [
       "<svg xmlns=\"http://www.w3.org/2000/svg\" xmlns:xlink=\"http://www.w3.org/1999/xlink\" width=\"100.0\" height=\"100.0\" viewBox=\"-88.48689907540117 42.409154266330724 0.13747680907044924 0.09067430158134471\" preserveAspectRatio=\"xMinYMin meet\"><g transform=\"matrix(1,0,0,-1,0,84.90898283424279)\"><path fill-rule=\"evenodd\" fill=\"#66cc99\" stroke=\"#555555\" stroke-width=\"0.0027495361814089845\" opacity=\"0.6\" d=\"M -88.4818073417319,42.494736834242794 L -88.3784032107312,42.49467152292549 L -88.354514,42.434965 L -88.471683,42.414246 L -88.4818073417319,42.494736834242794 z\" /></g></svg>"
      ],
      "text/plain": [
       "<shapely.geometry.polygon.Polygon at 0x7fb3a350ccd0>"
      ]
     },
     "execution_count": 28,
     "metadata": {},
     "output_type": "execute_result"
    }
   ],
   "source": [
    "df['geometry'][24].simplify(0.2)"
   ]
  },
  {
   "cell_type": "code",
   "execution_count": 32,
   "metadata": {},
   "outputs": [
    {
     "data": {
      "text/plain": [
       "33.302729"
      ]
     },
     "execution_count": 32,
     "metadata": {},
     "output_type": "execute_result"
    }
   ],
   "source": [
    "df['geometry'][18].exterior.xy[1][0]"
   ]
  },
  {
   "cell_type": "code",
   "execution_count": 33,
   "metadata": {},
   "outputs": [
    {
     "data": {
      "text/plain": [
       "(array('d', [-88.41944909283772]), array('d', [42.45620838199368]))"
      ]
     },
     "execution_count": 33,
     "metadata": {},
     "output_type": "execute_result"
    }
   ],
   "source": [
    "df['geometry'][24].centroid.xy"
   ]
  },
  {
   "cell_type": "code",
   "execution_count": 39,
   "metadata": {},
   "outputs": [
    {
     "ename": "NameError",
     "evalue": "name 'c_x' is not defined",
     "output_type": "error",
     "traceback": [
      "\u001b[0;31m---------------------------------------------------------------------------\u001b[0m",
      "\u001b[0;31mNameError\u001b[0m                                 Traceback (most recent call last)",
      "\u001b[0;32m<ipython-input-39-7a7756cfb50e>\u001b[0m in \u001b[0;36m<module>\u001b[0;34m\u001b[0m\n\u001b[1;32m     28\u001b[0m             \u001b[0mzipcode\u001b[0m \u001b[0;34m=\u001b[0m \u001b[0mrow\u001b[0m\u001b[0;34m.\u001b[0m\u001b[0mZCTA5CE10\u001b[0m\u001b[0;34m,\u001b[0m\u001b[0;34m\u001b[0m\u001b[0;34m\u001b[0m\u001b[0m\n\u001b[1;32m     29\u001b[0m             \u001b[0mmarker\u001b[0m \u001b[0;34m=\u001b[0m \u001b[0mdict\u001b[0m\u001b[0;34m(\u001b[0m\u001b[0msize\u001b[0m\u001b[0;34m=\u001b[0m\u001b[0;36m2\u001b[0m\u001b[0;34m)\u001b[0m\u001b[0;34m,\u001b[0m\u001b[0;34m\u001b[0m\u001b[0;34m\u001b[0m\u001b[0m\n\u001b[0;32m---> 30\u001b[0;31m             \u001b[0mx\u001b[0m\u001b[0;34m=\u001b[0m\u001b[0mc_x\u001b[0m\u001b[0;34m,\u001b[0m\u001b[0;34m\u001b[0m\u001b[0;34m\u001b[0m\u001b[0m\n\u001b[0m\u001b[1;32m     31\u001b[0m             \u001b[0my\u001b[0m\u001b[0;34m=\u001b[0m\u001b[0mc_y\u001b[0m\u001b[0;34m,\u001b[0m\u001b[0;34m\u001b[0m\u001b[0;34m\u001b[0m\u001b[0m\n\u001b[1;32m     32\u001b[0m             \u001b[0mfill\u001b[0m\u001b[0;34m=\u001b[0m\u001b[0;34m'toself'\u001b[0m\u001b[0;34m,\u001b[0m\u001b[0;34m\u001b[0m\u001b[0;34m\u001b[0m\u001b[0m\n",
      "\u001b[0;31mNameError\u001b[0m: name 'c_x' is not defined"
     ]
    }
   ],
   "source": [
    "plot_data = []\n",
    "for index,row in df.iterrows():\n",
    "    if df['geometry'][index].type == 'Polygon':\n",
    "        x,y = row.geometry.exterior.xy\n",
    "        c_x,c_y = row.geometry.centroid.xy\n",
    "    elif df['geometry'][index].type == 'MultiPolygon':\n",
    "        x = [poly.exterior.xy[0] for poly in df['geometry'][index]]\n",
    "        y = [poly.exterior.xy[1] for poly in df['geometry'][index]]\n",
    "        x_c = [poly.centroid.xy[0] for poly in df['geometry'][index]]\n",
    "        y_c = [poly.centroid.xy[1] for poly in df['geometry'][index]]        \n",
    "    else: \n",
    "        print('stop')\n",
    "    county_outline = dict(\n",
    "            type = 'scatter',\n",
    "            showlegend = False,\n",
    "            legendgroup = \"shapes\",\n",
    "            line = dict(color='black', width=1),\n",
    "            x=x,\n",
    "            y=y,\n",
    "            fill='toself',\n",
    "            fillcolor = 'purple',\n",
    "            hoverinfo='none'\n",
    "    )\n",
    "    hover_point = dict(\n",
    "            type = 'scatter',\n",
    "            showlegend = False,\n",
    "            legendgroup = \"centroids\",\n",
    "            zipcode = row.ZCTA5CE10,\n",
    "            marker = dict(size=2),\n",
    "            x=c_x,\n",
    "            y=c_y,\n",
    "            fill='toself',\n",
    "            fillcolor = 'purple'            \n",
    "    )\n",
    "    plot_data.append(county_outline)\n",
    "    plot_data.append(hover_point)"
   ]
  },
  {
   "cell_type": "code",
   "execution_count": null,
   "metadata": {},
   "outputs": [],
   "source": []
  },
  {
   "cell_type": "code",
   "execution_count": 9,
   "metadata": {},
   "outputs": [],
   "source": [
    "# Created Pandas DataFrame to rename (ZCTA5CE10 as Zipcode)\n",
    "\n",
    "df_pd = pd.DataFrame(df)\n",
    "df_pd = df_pd.rename(columns={\"ZCTA5CE10\":\"Zipcode\"})"
   ]
  },
  {
   "cell_type": "code",
   "execution_count": 10,
   "metadata": {},
   "outputs": [
    {
     "data": {
      "text/plain": [
       "Index(['Zipcode', 'AFFGEOID10', 'GEOID10', 'ALAND10', 'AWATER10', 'geometry'], dtype='object')"
      ]
     },
     "execution_count": 10,
     "metadata": {},
     "output_type": "execute_result"
    }
   ],
   "source": [
    "df_pd.columns"
   ]
  },
  {
   "cell_type": "code",
   "execution_count": 11,
   "metadata": {},
   "outputs": [],
   "source": [
    "# Converted df Zipcode column to int\n",
    "\n",
    "df_pd[\"Zipcode\"] = df_pd[\"Zipcode\"].astype(int)"
   ]
  },
  {
   "cell_type": "code",
   "execution_count": 12,
   "metadata": {},
   "outputs": [],
   "source": [
    "# Saving a CSV file named \"california_census_data\"\n",
    "\n",
    "california_data = pd.read_csv(\"Resources/california_census_data.csv\")"
   ]
  },
  {
   "cell_type": "code",
   "execution_count": 13,
   "metadata": {},
   "outputs": [],
   "source": [
    "# Converted df Zipcode column to int\n",
    "\n",
    "california_data[\"Zipcode\"] = california_data[\"Zipcode\"].astype(int)"
   ]
  },
  {
   "cell_type": "code",
   "execution_count": 14,
   "metadata": {},
   "outputs": [],
   "source": [
    "california_merged = pd.merge(df_pd, california_data, how=\"inner\", on=\"Zipcode\")\n",
    "# type(california_data[\"Zipcode\"][1])"
   ]
  },
  {
   "cell_type": "code",
   "execution_count": 15,
   "metadata": {},
   "outputs": [
    {
     "data": {
      "text/html": [
       "<div>\n",
       "<style scoped>\n",
       "    .dataframe tbody tr th:only-of-type {\n",
       "        vertical-align: middle;\n",
       "    }\n",
       "\n",
       "    .dataframe tbody tr th {\n",
       "        vertical-align: top;\n",
       "    }\n",
       "\n",
       "    .dataframe thead th {\n",
       "        text-align: right;\n",
       "    }\n",
       "</style>\n",
       "<table border=\"1\" class=\"dataframe\">\n",
       "  <thead>\n",
       "    <tr style=\"text-align: right;\">\n",
       "      <th></th>\n",
       "      <th>Zipcode</th>\n",
       "      <th>AFFGEOID10</th>\n",
       "      <th>GEOID10</th>\n",
       "      <th>ALAND10</th>\n",
       "      <th>AWATER10</th>\n",
       "      <th>geometry</th>\n",
       "      <th>Population</th>\n",
       "      <th>Poverty Count</th>\n",
       "      <th>poverty_male</th>\n",
       "      <th>poverty_female</th>\n",
       "      <th>...</th>\n",
       "      <th>poverty_family_single_female</th>\n",
       "      <th>employment_labor_force</th>\n",
       "      <th>employment_not_labor_force</th>\n",
       "      <th>employment_employed</th>\n",
       "      <th>employment_unemployed</th>\n",
       "      <th>Poverty Rate</th>\n",
       "      <th>index</th>\n",
       "      <th>City</th>\n",
       "      <th>County</th>\n",
       "      <th>Type</th>\n",
       "    </tr>\n",
       "  </thead>\n",
       "  <tbody>\n",
       "    <tr>\n",
       "      <th>0</th>\n",
       "      <td>93308</td>\n",
       "      <td>8600000US93308</td>\n",
       "      <td>93308</td>\n",
       "      <td>818436705</td>\n",
       "      <td>1790905</td>\n",
       "      <td>(POLYGON ((-118.963713 35.595182, -118.960574 ...</td>\n",
       "      <td>54042.0</td>\n",
       "      <td>12454.0</td>\n",
       "      <td>5351.0</td>\n",
       "      <td>7103.0</td>\n",
       "      <td>...</td>\n",
       "      <td>1549.0</td>\n",
       "      <td>23030.0</td>\n",
       "      <td>17946.0</td>\n",
       "      <td>20097.0</td>\n",
       "      <td>2921.0</td>\n",
       "      <td>23.045039</td>\n",
       "      <td>1197</td>\n",
       "      <td>Bakersfield</td>\n",
       "      <td>Kern</td>\n",
       "      <td>Standard</td>\n",
       "    </tr>\n",
       "    <tr>\n",
       "      <th>1</th>\n",
       "      <td>93060</td>\n",
       "      <td>8600000US93060</td>\n",
       "      <td>93060</td>\n",
       "      <td>307974335</td>\n",
       "      <td>2959287</td>\n",
       "      <td>POLYGON ((-119.268089 34.47578, -119.266678 34...</td>\n",
       "      <td>34226.0</td>\n",
       "      <td>5412.0</td>\n",
       "      <td>2532.0</td>\n",
       "      <td>2880.0</td>\n",
       "      <td>...</td>\n",
       "      <td>550.0</td>\n",
       "      <td>16746.0</td>\n",
       "      <td>8813.0</td>\n",
       "      <td>15336.0</td>\n",
       "      <td>1410.0</td>\n",
       "      <td>15.812540</td>\n",
       "      <td>1087</td>\n",
       "      <td>Santa Paula</td>\n",
       "      <td>Ventura</td>\n",
       "      <td>Standard</td>\n",
       "    </tr>\n",
       "    <tr>\n",
       "      <th>2</th>\n",
       "      <td>93960</td>\n",
       "      <td>8600000US93960</td>\n",
       "      <td>93960</td>\n",
       "      <td>528427594</td>\n",
       "      <td>13212990</td>\n",
       "      <td>POLYGON ((-121.563805 36.49934, -121.554078 36...</td>\n",
       "      <td>26788.0</td>\n",
       "      <td>2374.0</td>\n",
       "      <td>1008.0</td>\n",
       "      <td>1366.0</td>\n",
       "      <td>...</td>\n",
       "      <td>110.0</td>\n",
       "      <td>7191.0</td>\n",
       "      <td>14019.0</td>\n",
       "      <td>6745.0</td>\n",
       "      <td>446.0</td>\n",
       "      <td>8.862177</td>\n",
       "      <td>1469</td>\n",
       "      <td>Soledad</td>\n",
       "      <td>Monterey</td>\n",
       "      <td>Standard</td>\n",
       "    </tr>\n",
       "    <tr>\n",
       "      <th>3</th>\n",
       "      <td>93235</td>\n",
       "      <td>8600000US93235</td>\n",
       "      <td>93235</td>\n",
       "      <td>7462346</td>\n",
       "      <td>0</td>\n",
       "      <td>POLYGON ((-119.233867 36.38523, -119.233662 36...</td>\n",
       "      <td>3804.0</td>\n",
       "      <td>1306.0</td>\n",
       "      <td>743.0</td>\n",
       "      <td>563.0</td>\n",
       "      <td>...</td>\n",
       "      <td>36.0</td>\n",
       "      <td>1534.0</td>\n",
       "      <td>1291.0</td>\n",
       "      <td>1385.0</td>\n",
       "      <td>149.0</td>\n",
       "      <td>34.332282</td>\n",
       "      <td>1143</td>\n",
       "      <td>Ivanhoe</td>\n",
       "      <td>Tulare</td>\n",
       "      <td>Standard</td>\n",
       "    </tr>\n",
       "    <tr>\n",
       "      <th>4</th>\n",
       "      <td>93622</td>\n",
       "      <td>8600000US93622</td>\n",
       "      <td>93622</td>\n",
       "      <td>918202049</td>\n",
       "      <td>5458455</td>\n",
       "      <td>(POLYGON ((-120.794441 36.893821, -120.781957 ...</td>\n",
       "      <td>10298.0</td>\n",
       "      <td>2766.0</td>\n",
       "      <td>1220.0</td>\n",
       "      <td>1546.0</td>\n",
       "      <td>...</td>\n",
       "      <td>352.0</td>\n",
       "      <td>4746.0</td>\n",
       "      <td>2722.0</td>\n",
       "      <td>4005.0</td>\n",
       "      <td>741.0</td>\n",
       "      <td>26.859584</td>\n",
       "      <td>1339</td>\n",
       "      <td>Firebaugh</td>\n",
       "      <td>Fresno</td>\n",
       "      <td>Standard</td>\n",
       "    </tr>\n",
       "  </tbody>\n",
       "</table>\n",
       "<p>5 rows × 29 columns</p>\n",
       "</div>"
      ],
      "text/plain": [
       "   Zipcode      AFFGEOID10 GEOID10    ALAND10  AWATER10  \\\n",
       "0    93308  8600000US93308   93308  818436705   1790905   \n",
       "1    93060  8600000US93060   93060  307974335   2959287   \n",
       "2    93960  8600000US93960   93960  528427594  13212990   \n",
       "3    93235  8600000US93235   93235    7462346         0   \n",
       "4    93622  8600000US93622   93622  918202049   5458455   \n",
       "\n",
       "                                            geometry  Population  \\\n",
       "0  (POLYGON ((-118.963713 35.595182, -118.960574 ...     54042.0   \n",
       "1  POLYGON ((-119.268089 34.47578, -119.266678 34...     34226.0   \n",
       "2  POLYGON ((-121.563805 36.49934, -121.554078 36...     26788.0   \n",
       "3  POLYGON ((-119.233867 36.38523, -119.233662 36...      3804.0   \n",
       "4  (POLYGON ((-120.794441 36.893821, -120.781957 ...     10298.0   \n",
       "\n",
       "   Poverty Count  poverty_male  poverty_female  ...  \\\n",
       "0        12454.0        5351.0          7103.0  ...   \n",
       "1         5412.0        2532.0          2880.0  ...   \n",
       "2         2374.0        1008.0          1366.0  ...   \n",
       "3         1306.0         743.0           563.0  ...   \n",
       "4         2766.0        1220.0          1546.0  ...   \n",
       "\n",
       "   poverty_family_single_female  employment_labor_force  \\\n",
       "0                        1549.0                 23030.0   \n",
       "1                         550.0                 16746.0   \n",
       "2                         110.0                  7191.0   \n",
       "3                          36.0                  1534.0   \n",
       "4                         352.0                  4746.0   \n",
       "\n",
       "   employment_not_labor_force  employment_employed  employment_unemployed  \\\n",
       "0                     17946.0              20097.0                 2921.0   \n",
       "1                      8813.0              15336.0                 1410.0   \n",
       "2                     14019.0               6745.0                  446.0   \n",
       "3                      1291.0               1385.0                  149.0   \n",
       "4                      2722.0               4005.0                  741.0   \n",
       "\n",
       "   Poverty Rate  index         City    County      Type  \n",
       "0     23.045039   1197  Bakersfield      Kern  Standard  \n",
       "1     15.812540   1087  Santa Paula   Ventura  Standard  \n",
       "2      8.862177   1469      Soledad  Monterey  Standard  \n",
       "3     34.332282   1143      Ivanhoe    Tulare  Standard  \n",
       "4     26.859584   1339    Firebaugh    Fresno  Standard  \n",
       "\n",
       "[5 rows x 29 columns]"
      ]
     },
     "execution_count": 15,
     "metadata": {},
     "output_type": "execute_result"
    }
   ],
   "source": [
    "california_merged.head()"
   ]
  },
  {
   "cell_type": "code",
   "execution_count": 16,
   "metadata": {},
   "outputs": [],
   "source": [
    "# Saving a CSV file named \"california_merged_data\"\n",
    "\n",
    "california_merged.to_csv(\"Resources/california_merged_data.csv\", encoding=\"utf-8\", index=False)"
   ]
  },
  {
   "cell_type": "code",
   "execution_count": 17,
   "metadata": {},
   "outputs": [],
   "source": [
    "import plotly.figure_factory as ff\n",
    "import geopandas as gp\n",
    "# df = gp.read_file(\"/Users/jackparmer/Downloads/cb_2016_us_county_500k/cb_2016_us_county_500k.shp\")\n",
    "\n",
    "# import numpy as np\n",
    "# import pandas as pd\n",
    "\n",
    "df_f = gp.read_file('Resources/california_census_data.csv')"
   ]
  },
  {
   "cell_type": "code",
   "execution_count": 18,
   "metadata": {},
   "outputs": [
    {
     "data": {
      "text/html": [
       "<div>\n",
       "<style scoped>\n",
       "    .dataframe tbody tr th:only-of-type {\n",
       "        vertical-align: middle;\n",
       "    }\n",
       "\n",
       "    .dataframe tbody tr th {\n",
       "        vertical-align: top;\n",
       "    }\n",
       "\n",
       "    .dataframe thead th {\n",
       "        text-align: right;\n",
       "    }\n",
       "</style>\n",
       "<table border=\"1\" class=\"dataframe\">\n",
       "  <thead>\n",
       "    <tr style=\"text-align: right;\">\n",
       "      <th></th>\n",
       "      <th>Population</th>\n",
       "      <th>Poverty Count</th>\n",
       "      <th>poverty_male</th>\n",
       "      <th>poverty_female</th>\n",
       "      <th>poverty_white_alone</th>\n",
       "      <th>poverty_black_alone</th>\n",
       "      <th>population_american_indian_alone</th>\n",
       "      <th>poverty_asian_alone</th>\n",
       "      <th>poverty_native_hawaiian_alone</th>\n",
       "      <th>poverty_two_or_more_races</th>\n",
       "      <th>...</th>\n",
       "      <th>employment_not_labor_force</th>\n",
       "      <th>employment_employed</th>\n",
       "      <th>employment_unemployed</th>\n",
       "      <th>Zipcode</th>\n",
       "      <th>Poverty Rate</th>\n",
       "      <th>index</th>\n",
       "      <th>City</th>\n",
       "      <th>County</th>\n",
       "      <th>Type</th>\n",
       "      <th>geometry</th>\n",
       "    </tr>\n",
       "  </thead>\n",
       "  <tbody>\n",
       "    <tr>\n",
       "      <th>0</th>\n",
       "      <td>58738.0</td>\n",
       "      <td>18654.0</td>\n",
       "      <td>8736.0</td>\n",
       "      <td>9918.0</td>\n",
       "      <td>5512.0</td>\n",
       "      <td>1982.0</td>\n",
       "      <td>57.0</td>\n",
       "      <td>24.0</td>\n",
       "      <td>0.0</td>\n",
       "      <td>182.0</td>\n",
       "      <td>...</td>\n",
       "      <td>16142.0</td>\n",
       "      <td>23182.0</td>\n",
       "      <td>2922.0</td>\n",
       "      <td>90001</td>\n",
       "      <td>31.757976097245393</td>\n",
       "      <td>1</td>\n",
       "      <td>Los Angeles</td>\n",
       "      <td>Los Angeles</td>\n",
       "      <td>Standard</td>\n",
       "      <td>None</td>\n",
       "    </tr>\n",
       "    <tr>\n",
       "      <th>1</th>\n",
       "      <td>52856.0</td>\n",
       "      <td>17795.0</td>\n",
       "      <td>7735.0</td>\n",
       "      <td>10060.0</td>\n",
       "      <td>6049.0</td>\n",
       "      <td>3905.0</td>\n",
       "      <td>270.0</td>\n",
       "      <td>110.0</td>\n",
       "      <td>0.0</td>\n",
       "      <td>249.0</td>\n",
       "      <td>...</td>\n",
       "      <td>16206.0</td>\n",
       "      <td>18957.0</td>\n",
       "      <td>2660.0</td>\n",
       "      <td>90002</td>\n",
       "      <td>33.666944150143784</td>\n",
       "      <td>2</td>\n",
       "      <td>Los Angeles</td>\n",
       "      <td>Los Angeles</td>\n",
       "      <td>Standard</td>\n",
       "      <td>None</td>\n",
       "    </tr>\n",
       "    <tr>\n",
       "      <th>2</th>\n",
       "      <td>70490.0</td>\n",
       "      <td>23212.0</td>\n",
       "      <td>10498.0</td>\n",
       "      <td>12714.0</td>\n",
       "      <td>5133.0</td>\n",
       "      <td>6757.0</td>\n",
       "      <td>241.0</td>\n",
       "      <td>28.0</td>\n",
       "      <td>0.0</td>\n",
       "      <td>253.0</td>\n",
       "      <td>...</td>\n",
       "      <td>19607.0</td>\n",
       "      <td>26755.0</td>\n",
       "      <td>3835.0</td>\n",
       "      <td>90003</td>\n",
       "      <td>32.92949354518371</td>\n",
       "      <td>3</td>\n",
       "      <td>Los Angeles</td>\n",
       "      <td>Los Angeles</td>\n",
       "      <td>Standard</td>\n",
       "      <td>None</td>\n",
       "    </tr>\n",
       "    <tr>\n",
       "      <th>3</th>\n",
       "      <td>62733.0</td>\n",
       "      <td>11985.0</td>\n",
       "      <td>5475.0</td>\n",
       "      <td>6510.0</td>\n",
       "      <td>5027.0</td>\n",
       "      <td>643.0</td>\n",
       "      <td>34.0</td>\n",
       "      <td>2403.0</td>\n",
       "      <td>0.0</td>\n",
       "      <td>225.0</td>\n",
       "      <td>...</td>\n",
       "      <td>15009.0</td>\n",
       "      <td>34265.0</td>\n",
       "      <td>2624.0</td>\n",
       "      <td>90004</td>\n",
       "      <td>19.10477738989049</td>\n",
       "      <td>4</td>\n",
       "      <td>Los Angeles</td>\n",
       "      <td>Los Angeles</td>\n",
       "      <td>Standard</td>\n",
       "      <td>None</td>\n",
       "    </tr>\n",
       "    <tr>\n",
       "      <th>4</th>\n",
       "      <td>39562.0</td>\n",
       "      <td>11300.0</td>\n",
       "      <td>4979.0</td>\n",
       "      <td>6321.0</td>\n",
       "      <td>2302.0</td>\n",
       "      <td>815.0</td>\n",
       "      <td>44.0</td>\n",
       "      <td>2798.0</td>\n",
       "      <td>0.0</td>\n",
       "      <td>131.0</td>\n",
       "      <td>...</td>\n",
       "      <td>9063.0</td>\n",
       "      <td>21430.0</td>\n",
       "      <td>2040.0</td>\n",
       "      <td>90005</td>\n",
       "      <td>28.562762246600272</td>\n",
       "      <td>5</td>\n",
       "      <td>Los Angeles</td>\n",
       "      <td>Los Angeles</td>\n",
       "      <td>Standard</td>\n",
       "      <td>None</td>\n",
       "    </tr>\n",
       "  </tbody>\n",
       "</table>\n",
       "<p>5 rows × 25 columns</p>\n",
       "</div>"
      ],
      "text/plain": [
       "  Population Poverty Count poverty_male poverty_female poverty_white_alone  \\\n",
       "0    58738.0       18654.0       8736.0         9918.0              5512.0   \n",
       "1    52856.0       17795.0       7735.0        10060.0              6049.0   \n",
       "2    70490.0       23212.0      10498.0        12714.0              5133.0   \n",
       "3    62733.0       11985.0       5475.0         6510.0              5027.0   \n",
       "4    39562.0       11300.0       4979.0         6321.0              2302.0   \n",
       "\n",
       "  poverty_black_alone population_american_indian_alone poverty_asian_alone  \\\n",
       "0              1982.0                             57.0                24.0   \n",
       "1              3905.0                            270.0               110.0   \n",
       "2              6757.0                            241.0                28.0   \n",
       "3               643.0                             34.0              2403.0   \n",
       "4               815.0                             44.0              2798.0   \n",
       "\n",
       "  poverty_native_hawaiian_alone poverty_two_or_more_races  ...  \\\n",
       "0                           0.0                     182.0  ...   \n",
       "1                           0.0                     249.0  ...   \n",
       "2                           0.0                     253.0  ...   \n",
       "3                           0.0                     225.0  ...   \n",
       "4                           0.0                     131.0  ...   \n",
       "\n",
       "  employment_not_labor_force employment_employed employment_unemployed  \\\n",
       "0                    16142.0             23182.0                2922.0   \n",
       "1                    16206.0             18957.0                2660.0   \n",
       "2                    19607.0             26755.0                3835.0   \n",
       "3                    15009.0             34265.0                2624.0   \n",
       "4                     9063.0             21430.0                2040.0   \n",
       "\n",
       "  Zipcode        Poverty Rate index         City       County      Type  \\\n",
       "0   90001  31.757976097245393     1  Los Angeles  Los Angeles  Standard   \n",
       "1   90002  33.666944150143784     2  Los Angeles  Los Angeles  Standard   \n",
       "2   90003   32.92949354518371     3  Los Angeles  Los Angeles  Standard   \n",
       "3   90004   19.10477738989049     4  Los Angeles  Los Angeles  Standard   \n",
       "4   90005  28.562762246600272     5  Los Angeles  Los Angeles  Standard   \n",
       "\n",
       "  geometry  \n",
       "0     None  \n",
       "1     None  \n",
       "2     None  \n",
       "3     None  \n",
       "4     None  \n",
       "\n",
       "[5 rows x 25 columns]"
      ]
     },
     "execution_count": 18,
     "metadata": {},
     "output_type": "execute_result"
    }
   ],
   "source": [
    "# Problem - Geometry coordinates were knocked off\n",
    "\n",
    "df_f.head()"
   ]
  },
  {
   "cell_type": "code",
   "execution_count": 19,
   "metadata": {},
   "outputs": [
    {
     "data": {
      "text/plain": [
       "0       None\n",
       "1       None\n",
       "2       None\n",
       "3       None\n",
       "4       None\n",
       "        ... \n",
       "1546    None\n",
       "1547    None\n",
       "1548    None\n",
       "1549    None\n",
       "1550    None\n",
       "Name: geometry, Length: 1551, dtype: object"
      ]
     },
     "execution_count": 19,
     "metadata": {},
     "output_type": "execute_result"
    }
   ],
   "source": [
    "df_f['geometry']\n",
    "\n",
    "# df_f[\"Zipcode\"]['90242']"
   ]
  },
  {
   "cell_type": "code",
   "execution_count": 20,
   "metadata": {},
   "outputs": [
    {
     "data": {
      "text/plain": [
       "geopandas.geodataframe.GeoDataFrame"
      ]
     },
     "execution_count": 20,
     "metadata": {},
     "output_type": "execute_result"
    }
   ],
   "source": [
    "type(df_f)"
   ]
  }
 ],
 "metadata": {
  "kernelspec": {
   "display_name": "Python 3",
   "language": "python",
   "name": "python3"
  },
  "language_info": {
   "codemirror_mode": {
    "name": "ipython",
    "version": 3
   },
   "file_extension": ".py",
   "mimetype": "text/x-python",
   "name": "python",
   "nbconvert_exporter": "python",
   "pygments_lexer": "ipython3",
   "version": "3.8.3"
  }
 },
 "nbformat": 4,
 "nbformat_minor": 4
}
