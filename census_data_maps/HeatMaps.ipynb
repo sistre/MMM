{
 "cells": [
  {
   "cell_type": "markdown",
   "metadata": {},
   "source": [
    "Import Dependencies "
   ]
  },
  {
   "cell_type": "code",
   "execution_count": 2,
   "metadata": {},
   "outputs": [],
   "source": [
    "# !pip install lxml\n",
    "# !pip install beautifulsoup4 html5lib"
   ]
  },
  {
   "cell_type": "code",
   "execution_count": 3,
   "metadata": {},
   "outputs": [],
   "source": [
    "# Dependencies\n",
    "from census import Census\n",
    "from config import (census_key, gkey)\n",
    "import gmaps\n",
    "import numpy as np\n",
    "import pandas as pd\n",
    "import requests\n",
    "import time\n",
    "from us import states\n",
    "from scipy.stats import linregress\n",
    "from matplotlib import pyplot as plt\n",
    "\n",
    "\n",
    "# Census API Key\n",
    "c = Census(census_key, year=2013)"
   ]
  },
  {
   "cell_type": "code",
   "execution_count": 12,
   "metadata": {
    "scrolled": true
   },
   "outputs": [
    {
     "name": "stdout",
     "output_type": "stream",
     "text": [
      "33120\n"
     ]
    },
    {
     "data": {
      "text/html": [
       "<div>\n",
       "<style scoped>\n",
       "    .dataframe tbody tr th:only-of-type {\n",
       "        vertical-align: middle;\n",
       "    }\n",
       "\n",
       "    .dataframe tbody tr th {\n",
       "        vertical-align: top;\n",
       "    }\n",
       "\n",
       "    .dataframe thead th {\n",
       "        text-align: right;\n",
       "    }\n",
       "</style>\n",
       "<table border=\"1\" class=\"dataframe\">\n",
       "  <thead>\n",
       "    <tr style=\"text-align: right;\">\n",
       "      <th></th>\n",
       "      <th>Population</th>\n",
       "      <th>Poverty Count</th>\n",
       "      <th>poverty_male</th>\n",
       "      <th>poverty_female</th>\n",
       "      <th>poverty_white_alone</th>\n",
       "      <th>poverty_black_alone</th>\n",
       "      <th>population_american_indian_alone</th>\n",
       "      <th>poverty_asian_alone</th>\n",
       "      <th>poverty_native_hawaiian_alone</th>\n",
       "      <th>poverty_two_or_more_races</th>\n",
       "      <th>poverty_hispanic_origin</th>\n",
       "      <th>poverty_family</th>\n",
       "      <th>poverty_family_single_male</th>\n",
       "      <th>poverty_family_single_female</th>\n",
       "      <th>employment_labor_force</th>\n",
       "      <th>employment_not_labor_force</th>\n",
       "      <th>employment_employed</th>\n",
       "      <th>employment_unemployed</th>\n",
       "      <th>Zipcode</th>\n",
       "      <th>Poverty Rate</th>\n",
       "    </tr>\n",
       "  </thead>\n",
       "  <tbody>\n",
       "    <tr>\n",
       "      <th>0</th>\n",
       "      <td>22121.0</td>\n",
       "      <td>2412.0</td>\n",
       "      <td>1156.0</td>\n",
       "      <td>1256.0</td>\n",
       "      <td>1638.0</td>\n",
       "      <td>90.0</td>\n",
       "      <td>28.0</td>\n",
       "      <td>19.0</td>\n",
       "      <td>0.0</td>\n",
       "      <td>195.0</td>\n",
       "      <td>1143.0</td>\n",
       "      <td>576.0</td>\n",
       "      <td>114.0</td>\n",
       "      <td>325.0</td>\n",
       "      <td>12160.0</td>\n",
       "      <td>5281.0</td>\n",
       "      <td>10888.0</td>\n",
       "      <td>1258.0</td>\n",
       "      <td>01832</td>\n",
       "      <td>10.903666</td>\n",
       "    </tr>\n",
       "    <tr>\n",
       "      <th>1</th>\n",
       "      <td>8295.0</td>\n",
       "      <td>191.0</td>\n",
       "      <td>88.0</td>\n",
       "      <td>103.0</td>\n",
       "      <td>191.0</td>\n",
       "      <td>0.0</td>\n",
       "      <td>0.0</td>\n",
       "      <td>0.0</td>\n",
       "      <td>0.0</td>\n",
       "      <td>0.0</td>\n",
       "      <td>0.0</td>\n",
       "      <td>49.0</td>\n",
       "      <td>0.0</td>\n",
       "      <td>14.0</td>\n",
       "      <td>4516.0</td>\n",
       "      <td>1877.0</td>\n",
       "      <td>4196.0</td>\n",
       "      <td>320.0</td>\n",
       "      <td>01833</td>\n",
       "      <td>2.302592</td>\n",
       "    </tr>\n",
       "    <tr>\n",
       "      <th>2</th>\n",
       "      <td>6675.0</td>\n",
       "      <td>146.0</td>\n",
       "      <td>53.0</td>\n",
       "      <td>93.0</td>\n",
       "      <td>94.0</td>\n",
       "      <td>0.0</td>\n",
       "      <td>0.0</td>\n",
       "      <td>52.0</td>\n",
       "      <td>0.0</td>\n",
       "      <td>0.0</td>\n",
       "      <td>0.0</td>\n",
       "      <td>40.0</td>\n",
       "      <td>0.0</td>\n",
       "      <td>26.0</td>\n",
       "      <td>3895.0</td>\n",
       "      <td>1504.0</td>\n",
       "      <td>3662.0</td>\n",
       "      <td>233.0</td>\n",
       "      <td>01834</td>\n",
       "      <td>2.187266</td>\n",
       "    </tr>\n",
       "    <tr>\n",
       "      <th>3</th>\n",
       "      <td>13527.0</td>\n",
       "      <td>1153.0</td>\n",
       "      <td>560.0</td>\n",
       "      <td>593.0</td>\n",
       "      <td>762.0</td>\n",
       "      <td>218.0</td>\n",
       "      <td>0.0</td>\n",
       "      <td>46.0</td>\n",
       "      <td>0.0</td>\n",
       "      <td>23.0</td>\n",
       "      <td>331.0</td>\n",
       "      <td>235.0</td>\n",
       "      <td>54.0</td>\n",
       "      <td>143.0</td>\n",
       "      <td>7988.0</td>\n",
       "      <td>2749.0</td>\n",
       "      <td>7536.0</td>\n",
       "      <td>452.0</td>\n",
       "      <td>01835</td>\n",
       "      <td>8.523693</td>\n",
       "    </tr>\n",
       "    <tr>\n",
       "      <th>4</th>\n",
       "      <td>4547.0</td>\n",
       "      <td>1798.0</td>\n",
       "      <td>696.0</td>\n",
       "      <td>1102.0</td>\n",
       "      <td>515.0</td>\n",
       "      <td>96.0</td>\n",
       "      <td>40.0</td>\n",
       "      <td>10.0</td>\n",
       "      <td>0.0</td>\n",
       "      <td>34.0</td>\n",
       "      <td>1622.0</td>\n",
       "      <td>334.0</td>\n",
       "      <td>19.0</td>\n",
       "      <td>193.0</td>\n",
       "      <td>1738.0</td>\n",
       "      <td>1810.0</td>\n",
       "      <td>1483.0</td>\n",
       "      <td>255.0</td>\n",
       "      <td>01840</td>\n",
       "      <td>39.542556</td>\n",
       "    </tr>\n",
       "  </tbody>\n",
       "</table>\n",
       "</div>"
      ],
      "text/plain": [
       "   Population  Poverty Count  poverty_male  poverty_female  \\\n",
       "0     22121.0         2412.0        1156.0          1256.0   \n",
       "1      8295.0          191.0          88.0           103.0   \n",
       "2      6675.0          146.0          53.0            93.0   \n",
       "3     13527.0         1153.0         560.0           593.0   \n",
       "4      4547.0         1798.0         696.0          1102.0   \n",
       "\n",
       "   poverty_white_alone  poverty_black_alone  population_american_indian_alone  \\\n",
       "0               1638.0                 90.0                              28.0   \n",
       "1                191.0                  0.0                               0.0   \n",
       "2                 94.0                  0.0                               0.0   \n",
       "3                762.0                218.0                               0.0   \n",
       "4                515.0                 96.0                              40.0   \n",
       "\n",
       "   poverty_asian_alone  poverty_native_hawaiian_alone  \\\n",
       "0                 19.0                            0.0   \n",
       "1                  0.0                            0.0   \n",
       "2                 52.0                            0.0   \n",
       "3                 46.0                            0.0   \n",
       "4                 10.0                            0.0   \n",
       "\n",
       "   poverty_two_or_more_races  poverty_hispanic_origin  poverty_family  \\\n",
       "0                      195.0                   1143.0           576.0   \n",
       "1                        0.0                      0.0            49.0   \n",
       "2                        0.0                      0.0            40.0   \n",
       "3                       23.0                    331.0           235.0   \n",
       "4                       34.0                   1622.0           334.0   \n",
       "\n",
       "   poverty_family_single_male  poverty_family_single_female  \\\n",
       "0                       114.0                         325.0   \n",
       "1                         0.0                          14.0   \n",
       "2                         0.0                          26.0   \n",
       "3                        54.0                         143.0   \n",
       "4                        19.0                         193.0   \n",
       "\n",
       "   employment_labor_force  employment_not_labor_force  employment_employed  \\\n",
       "0                 12160.0                      5281.0              10888.0   \n",
       "1                  4516.0                      1877.0               4196.0   \n",
       "2                  3895.0                      1504.0               3662.0   \n",
       "3                  7988.0                      2749.0               7536.0   \n",
       "4                  1738.0                      1810.0               1483.0   \n",
       "\n",
       "   employment_unemployed Zipcode  Poverty Rate  \n",
       "0                 1258.0   01832     10.903666  \n",
       "1                  320.0   01833      2.302592  \n",
       "2                  233.0   01834      2.187266  \n",
       "3                  452.0   01835      8.523693  \n",
       "4                  255.0   01840     39.542556  "
      ]
     },
     "execution_count": 12,
     "metadata": {},
     "output_type": "execute_result"
    }
   ],
   "source": [
    "# Run Census Search to retrieve data on all zip codes (2013 ACS5 Census)\n",
    "# See: https://github.com/CommerceDataService/census-wrapper for library documentation\n",
    "# See: https://gist.github.com/afhaque/60558290d6efd892351c4b64e5c01e9b for labels\n",
    "zipcode_census_data = c.acs5.get((\"B01003_001E\", \"B17001_002E\",\"B17001_003E\",\"B17001_017E\",\n",
    "                          \"B17001A_002E\",\"B17001B_002E\", \"B17001C_002E\" ,\"B17001D_002E\" ,\n",
    "                          \"B17001E_002E\" ,\"B17001G_002E\" ,\"B17001I_002E\" ,\"B17012_002E\",\n",
    "                          \"B17012_009E\",\"B17012_014E\" ,\"B23025_002E\" ,\"B23025_007E\" ,\n",
    "                          \"B23025_004E\" ,\"B23025_005E\"), {\n",
    "                         'for': 'zip code tabulation area:*'})\n",
    "\n",
    "# Convert to DataFrame\n",
    "zipcode_census_pd = pd.DataFrame(zipcode_census_data)\n",
    "\n",
    "#reorder names\n",
    "zipcode_census_pd = zipcode_census_pd.rename(columns={\"B01003_001E\": \"Population\",\n",
    "                                      \"B17001_002E\": \"Poverty Count\",\"B17001_003E\": \"poverty_male\",\n",
    "                                                      \"B17001_017E\": \"poverty_female\",\"B17001A_002E\": \"poverty_white_alone\",\n",
    "                                                      \"B17001B_002E\": \"poverty_black_alone\",\n",
    "                                                      \"B17001C_002E\": \"population_american_indian_alone\",\n",
    "                                                      \"B17001D_002E\": \"poverty_asian_alone\",\n",
    "                                                      \"B17001E_002E\": \"poverty_native_hawaiian_alone\",\n",
    "                                                      \"B17001G_002E\": \"poverty_two_or_more_races\",\n",
    "                                                      \"B17001I_002E\": \"poverty_hispanic_origin\",\n",
    "                                                      \"B17012_002E\": \"poverty_family\",\n",
    "                                                      \"B17012_009E\": \"poverty_family_single_male\",\n",
    "                                                      \"B17012_014E\": \"poverty_family_single_female\",\n",
    "                                                      \"B23025_002E\": \"employment_labor_force\",\n",
    "                                                      \"B23025_007E\": \"employment_not_labor_force\"\t,\n",
    "                                                      \"B23025_004E\": \"employment_employed\",\n",
    "                                                      \"B23025_005E\": \"employment_unemployed\",\n",
    "                                      \"zip code tabulation area\": \"Zipcode\"})\n",
    "\n",
    "\n",
    "# Add in Poverty Rate (Poverty Count / Population)\n",
    "zipcode_census_pd[\"Poverty Rate\"] = 100 * \\\n",
    "    zipcode_census_pd[\"Poverty Count\"].astype(\n",
    "        int) / zipcode_census_pd[\"Population\"].astype(int)\n",
    "\n",
    "# Final DataFrame\n",
    "# census_pd = census_pd[[\"Zipcode\", \"Population\", \"Poverty Rate\"]]\n",
    "\n",
    "# # Visualize\n",
    "print(len(zipcode_census_pd))\n",
    "zipcode_census_pd.head()"
   ]
  },
  {
   "cell_type": "code",
   "execution_count": null,
   "metadata": {},
   "outputs": [],
   "source": []
  },
  {
   "cell_type": "code",
   "execution_count": 4,
   "metadata": {},
   "outputs": [],
   "source": [
    "# Get California Data Only\n",
    "    #Web scrape to get data for california zipcodes that includes county and whether \n",
    "tables = pd.read_html('Resources/zipcode_site.html')\n",
    "zipcode_df = tables[2]\n",
    "\n"
   ]
  },
  {
   "cell_type": "code",
   "execution_count": 5,
   "metadata": {
    "scrolled": true
   },
   "outputs": [],
   "source": [
    "    #clean zipcode_df to get rid of p.o. boxes and rename columns\n",
    "column_names = list(zipcode_df.iloc[0,:])\n",
    "zipcode_df.columns = column_names\n",
    "    #delete first row (redundant)\n",
    "zipcode_df = zipcode_df.drop(zipcode_df.index[0])"
   ]
  },
  {
   "cell_type": "code",
   "execution_count": 6,
   "metadata": {
    "scrolled": true
   },
   "outputs": [],
   "source": [
    "#reset index \n",
    "zipcode_df=zipcode_df.reset_index()\n",
    "#rename column for merge\n",
    "zipcode_df = zipcode_df.rename(columns={\"ZIP Code\":\"Zipcode\"})"
   ]
  },
  {
   "cell_type": "code",
   "execution_count": 7,
   "metadata": {
    "scrolled": false
   },
   "outputs": [
    {
     "data": {
      "text/html": [
       "<div>\n",
       "<style scoped>\n",
       "    .dataframe tbody tr th:only-of-type {\n",
       "        vertical-align: middle;\n",
       "    }\n",
       "\n",
       "    .dataframe tbody tr th {\n",
       "        vertical-align: top;\n",
       "    }\n",
       "\n",
       "    .dataframe thead th {\n",
       "        text-align: right;\n",
       "    }\n",
       "</style>\n",
       "<table border=\"1\" class=\"dataframe\">\n",
       "  <thead>\n",
       "    <tr style=\"text-align: right;\">\n",
       "      <th></th>\n",
       "      <th>index</th>\n",
       "      <th>Zipcode</th>\n",
       "      <th>City</th>\n",
       "      <th>County</th>\n",
       "      <th>Type</th>\n",
       "    </tr>\n",
       "  </thead>\n",
       "  <tbody>\n",
       "    <tr>\n",
       "      <th>0</th>\n",
       "      <td>1</td>\n",
       "      <td>90001</td>\n",
       "      <td>Los Angeles</td>\n",
       "      <td>Los Angeles</td>\n",
       "      <td>Standard</td>\n",
       "    </tr>\n",
       "    <tr>\n",
       "      <th>1</th>\n",
       "      <td>2</td>\n",
       "      <td>90002</td>\n",
       "      <td>Los Angeles</td>\n",
       "      <td>Los Angeles</td>\n",
       "      <td>Standard</td>\n",
       "    </tr>\n",
       "    <tr>\n",
       "      <th>2</th>\n",
       "      <td>3</td>\n",
       "      <td>90003</td>\n",
       "      <td>Los Angeles</td>\n",
       "      <td>Los Angeles</td>\n",
       "      <td>Standard</td>\n",
       "    </tr>\n",
       "    <tr>\n",
       "      <th>3</th>\n",
       "      <td>4</td>\n",
       "      <td>90004</td>\n",
       "      <td>Los Angeles</td>\n",
       "      <td>Los Angeles</td>\n",
       "      <td>Standard</td>\n",
       "    </tr>\n",
       "    <tr>\n",
       "      <th>4</th>\n",
       "      <td>5</td>\n",
       "      <td>90005</td>\n",
       "      <td>Los Angeles</td>\n",
       "      <td>Los Angeles</td>\n",
       "      <td>Standard</td>\n",
       "    </tr>\n",
       "  </tbody>\n",
       "</table>\n",
       "</div>"
      ],
      "text/plain": [
       "   index Zipcode         City       County      Type\n",
       "0      1   90001  Los Angeles  Los Angeles  Standard\n",
       "1      2   90002  Los Angeles  Los Angeles  Standard\n",
       "2      3   90003  Los Angeles  Los Angeles  Standard\n",
       "3      4   90004  Los Angeles  Los Angeles  Standard\n",
       "4      5   90005  Los Angeles  Los Angeles  Standard"
      ]
     },
     "execution_count": 7,
     "metadata": {},
     "output_type": "execute_result"
    }
   ],
   "source": [
    "# zipcode_df.head()\n",
    "zipcode_df['Zipcode']=zipcode_df['Zipcode'].str.slice(9)\n",
    "zipcode_df.head()"
   ]
  },
  {
   "cell_type": "code",
   "execution_count": 8,
   "metadata": {},
   "outputs": [
    {
     "data": {
      "text/plain": [
       "{'P.O. Box', 'Standard', 'Unique'}"
      ]
     },
     "execution_count": 8,
     "metadata": {},
     "output_type": "execute_result"
    }
   ],
   "source": [
    "set(zipcode_df['Type'])"
   ]
  },
  {
   "cell_type": "code",
   "execution_count": 9,
   "metadata": {},
   "outputs": [
    {
     "ename": "AttributeError",
     "evalue": "'Series' object has no attribute 'value'",
     "output_type": "error",
     "traceback": [
      "\u001b[0;31m---------------------------------------------------------------------------\u001b[0m",
      "\u001b[0;31mAttributeError\u001b[0m                            Traceback (most recent call last)",
      "\u001b[0;32m<ipython-input-9-1d868d9f054d>\u001b[0m in \u001b[0;36m<module>\u001b[0;34m\u001b[0m\n\u001b[0;32m----> 1\u001b[0;31m \u001b[0mzipcode_df\u001b[0m\u001b[0;34m[\u001b[0m\u001b[0;34m'Type'\u001b[0m\u001b[0;34m]\u001b[0m\u001b[0;34m.\u001b[0m\u001b[0mvalue\u001b[0m\u001b[0;34m.\u001b[0m\u001b[0mcounts\u001b[0m\u001b[0;34m(\u001b[0m\u001b[0;34m)\u001b[0m\u001b[0;34m\u001b[0m\u001b[0;34m\u001b[0m\u001b[0m\n\u001b[0m",
      "\u001b[0;32m~/opt/anaconda3/lib/python3.8/site-packages/pandas/core/generic.py\u001b[0m in \u001b[0;36m__getattr__\u001b[0;34m(self, name)\u001b[0m\n\u001b[1;32m   5272\u001b[0m             \u001b[0;32mif\u001b[0m \u001b[0mself\u001b[0m\u001b[0;34m.\u001b[0m\u001b[0m_info_axis\u001b[0m\u001b[0;34m.\u001b[0m\u001b[0m_can_hold_identifiers_and_holds_name\u001b[0m\u001b[0;34m(\u001b[0m\u001b[0mname\u001b[0m\u001b[0;34m)\u001b[0m\u001b[0;34m:\u001b[0m\u001b[0;34m\u001b[0m\u001b[0;34m\u001b[0m\u001b[0m\n\u001b[1;32m   5273\u001b[0m                 \u001b[0;32mreturn\u001b[0m \u001b[0mself\u001b[0m\u001b[0;34m[\u001b[0m\u001b[0mname\u001b[0m\u001b[0;34m]\u001b[0m\u001b[0;34m\u001b[0m\u001b[0;34m\u001b[0m\u001b[0m\n\u001b[0;32m-> 5274\u001b[0;31m             \u001b[0;32mreturn\u001b[0m \u001b[0mobject\u001b[0m\u001b[0;34m.\u001b[0m\u001b[0m__getattribute__\u001b[0m\u001b[0;34m(\u001b[0m\u001b[0mself\u001b[0m\u001b[0;34m,\u001b[0m \u001b[0mname\u001b[0m\u001b[0;34m)\u001b[0m\u001b[0;34m\u001b[0m\u001b[0;34m\u001b[0m\u001b[0m\n\u001b[0m\u001b[1;32m   5275\u001b[0m \u001b[0;34m\u001b[0m\u001b[0m\n\u001b[1;32m   5276\u001b[0m     \u001b[0;32mdef\u001b[0m \u001b[0m__setattr__\u001b[0m\u001b[0;34m(\u001b[0m\u001b[0mself\u001b[0m\u001b[0;34m,\u001b[0m \u001b[0mname\u001b[0m\u001b[0;34m:\u001b[0m \u001b[0mstr\u001b[0m\u001b[0;34m,\u001b[0m \u001b[0mvalue\u001b[0m\u001b[0;34m)\u001b[0m \u001b[0;34m->\u001b[0m \u001b[0;32mNone\u001b[0m\u001b[0;34m:\u001b[0m\u001b[0;34m\u001b[0m\u001b[0;34m\u001b[0m\u001b[0m\n",
      "\u001b[0;31mAttributeError\u001b[0m: 'Series' object has no attribute 'value'"
     ]
    }
   ],
   "source": [
    "zipcode_df['Type'].value.counts()"
   ]
  },
  {
   "cell_type": "code",
   "execution_count": 10,
   "metadata": {},
   "outputs": [
    {
     "data": {
      "text/plain": [
       "1583"
      ]
     },
     "execution_count": 10,
     "metadata": {},
     "output_type": "execute_result"
    }
   ],
   "source": [
    "#drop all p.o. boxes \n",
    "zipcode_df = zipcode_df[~zipcode_df.Type.str.contains(\"P.O. Box|Unique\")]\n",
    "len(zipcode_df)"
   ]
  },
  {
   "cell_type": "code",
   "execution_count": 13,
   "metadata": {},
   "outputs": [
    {
     "name": "stdout",
     "output_type": "stream",
     "text": [
      "<class 'pandas.core.frame.DataFrame'>\n",
      "1551\n"
     ]
    },
    {
     "data": {
      "text/plain": [
       "Index(['Population', 'Poverty Count', 'poverty_male', 'poverty_female',\n",
       "       'poverty_white_alone', 'poverty_black_alone',\n",
       "       'population_american_indian_alone', 'poverty_asian_alone',\n",
       "       'poverty_native_hawaiian_alone', 'poverty_two_or_more_races',\n",
       "       'poverty_hispanic_origin', 'poverty_family',\n",
       "       'poverty_family_single_male', 'poverty_family_single_female',\n",
       "       'employment_labor_force', 'employment_not_labor_force',\n",
       "       'employment_employed', 'employment_unemployed', 'Zipcode',\n",
       "       'Poverty Rate', 'index', 'City', 'County', 'Type'],\n",
       "      dtype='object')"
      ]
     },
     "execution_count": 13,
     "metadata": {},
     "output_type": "execute_result"
    }
   ],
   "source": [
    "#merge data frames to get california data only \n",
    "california_data = pd.merge(zipcode_census_pd, zipcode_df, on='Zipcode', how ='inner')\n",
    "print(type(california_data))\n",
    "print(len(california_data))\n",
    "california_data.columns"
   ]
  },
  {
   "cell_type": "code",
   "execution_count": 14,
   "metadata": {},
   "outputs": [
    {
     "data": {
      "text/plain": [
       "Standard    1551\n",
       "Name: Type, dtype: int64"
      ]
     },
     "execution_count": 14,
     "metadata": {},
     "output_type": "execute_result"
    }
   ],
   "source": [
    "california_data['Type'].value_counts()"
   ]
  },
  {
   "cell_type": "code",
   "execution_count": 15,
   "metadata": {},
   "outputs": [],
   "source": [
    "california_data.to_csv(\"../resources/CACountiesZips.csv\", encoding=\"utf-8\", index=False)"
   ]
  },
  {
   "cell_type": "code",
   "execution_count": null,
   "metadata": {},
   "outputs": [],
   "source": []
  }
 ],
 "metadata": {
  "kernelspec": {
   "display_name": "Python 3",
   "language": "python",
   "name": "python3"
  },
  "language_info": {
   "codemirror_mode": {
    "name": "ipython",
    "version": 3
   },
   "file_extension": ".py",
   "mimetype": "text/x-python",
   "name": "python",
   "nbconvert_exporter": "python",
   "pygments_lexer": "ipython3",
   "version": "3.8.3"
  }
 },
 "nbformat": 4,
 "nbformat_minor": 4
}
